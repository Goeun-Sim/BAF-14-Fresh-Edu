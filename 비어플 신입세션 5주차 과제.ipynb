{
 "cells": [
  {
   "cell_type": "markdown",
   "id": "f84ce502-ec62-4b51-9d75-69e944d10942",
   "metadata": {},
   "source": [
    "## 5주차 과제_심고은"
   ]
  },
  {
   "cell_type": "markdown",
   "id": "1c8dfacf-dd7a-4d63-a468-618f5ee39057",
   "metadata": {},
   "source": [
    "#### **관련 라이브러리**"
   ]
  },
  {
   "cell_type": "code",
   "execution_count": 4,
   "id": "3c7911f1-e0b4-4371-907d-53a61e36cff6",
   "metadata": {},
   "outputs": [],
   "source": [
    "import pandas as pd\n",
    "import numpy as np\n",
    "import matplotlib.pyplot as plt\n",
    "import seaborn as sns\n",
    "%config InlineBackend.figure_format = 'retina'  #선명하게 만들기\n",
    "\n",
    "#pip install missingno\n",
    "#pip install fancyimpute\n",
    "#pip install xgboost\n",
    "\n",
    "import missingno as msno #결측치 확인 라이브러리 \n",
    "from fancyimpute import IterativeImputer #다중대체 라이브러리\n",
    "import seaborn.objects as so #seaborn의 다른 라이브러리\n",
    "\n",
    "import warnings #Warning 메세지 뜨지 않도록\n",
    "warnings.filterwarnings('ignore')\n",
    "\n",
    "import os #작업 디렉토리 관련 라이브러리\n",
    "\n",
    "from sklearn.preprocessing import OneHotEncoder\n",
    "from sklearn.preprocessing import OrdinalEncoder\n",
    "from sklearn.model_selection import KFold\n",
    "from sklearn.preprocessing import StandardScaler\n",
    "from sklearn.preprocessing import MinMaxScaler\n",
    "from sklearn.preprocessing import MaxAbsScaler\n",
    "from sklearn.preprocessing import RobustScaler\n",
    "from sklearn.model_selection import train_test_split, GridSearchCV\n",
    "from sklearn.tree import DecisionTreeRegressor\n",
    "from sklearn.metrics import r2_score,mean_absolute_error, mean_squared_error\n",
    "from sklearn.ensemble import RandomForestRegressor\n",
    "from xgboost import XGBRegressor\n",
    "from sklearn.linear_model import LinearRegression\n",
    "\n",
    "plt.rc('font', family='Malgun Gothic')\n",
    "plt.rc('axes', unicode_minus=False)"
   ]
  },
  {
   "cell_type": "markdown",
   "id": "21fb8f67-fa32-4133-91c4-96b436ea1496",
   "metadata": {},
   "source": [
    "#### **1. 1차 전처리 마친 데이터셋 불러오기**"
   ]
  },
  {
   "cell_type": "code",
   "execution_count": 5,
   "id": "215c15f6-3cac-4b86-8d30-df60bef38764",
   "metadata": {},
   "outputs": [
    {
     "data": {
      "text/plain": [
       "'C:\\\\Users\\\\sim\\\\Desktop\\\\BAF\\\\Dataset\\\\따릉이'"
      ]
     },
     "execution_count": 5,
     "metadata": {},
     "output_type": "execute_result"
    }
   ],
   "source": [
    "os.chdir('/Users\\sim\\Desktop/BAF/Dataset/따릉이')\n",
    "os.getcwd()"
   ]
  },
  {
   "cell_type": "code",
   "execution_count": 6,
   "id": "c47547ad-0737-466f-810a-133113f59585",
   "metadata": {},
   "outputs": [],
   "source": [
    "train_data = pd.read_csv('train_clean.csv')\n",
    "df_train = train_data.copy()"
   ]
  },
  {
   "cell_type": "code",
   "execution_count": 7,
   "id": "d0baead1-b925-47ff-aa03-ac3ef19409c2",
   "metadata": {},
   "outputs": [
    {
     "data": {
      "text/plain": [
       "Date                               0\n",
       "Rented Bike Count                  0\n",
       "Hour                               0\n",
       "Temperature(째C)                    0\n",
       "Humidity(%)                        0\n",
       "Wind speed (m/s)                   0\n",
       "Visibility (10m)                   0\n",
       "Dew point temperature(째C)          0\n",
       "Solar Radiation (MJ/m2)            0\n",
       "Rainfall(mm)                       0\n",
       "Snowfall (cm)                      0\n",
       "Seasons                            0\n",
       "Holiday                            0\n",
       "Functioning Day                    0\n",
       "year                               0\n",
       "month                              0\n",
       "day                                0\n",
       "weekday                            0\n",
       "log-transformed Solar Radiation    0\n",
       "dtype: int64"
      ]
     },
     "execution_count": 7,
     "metadata": {},
     "output_type": "execute_result"
    }
   ],
   "source": [
    "df_train.isna().sum() #결측치 없음"
   ]
  },
  {
   "cell_type": "code",
   "execution_count": 8,
   "id": "799a08c6-f927-4961-b265-7e8e66624b85",
   "metadata": {},
   "outputs": [],
   "source": [
    "test_data = pd.read_csv('test_clean.csv')\n",
    "df_test = test_data.copy()"
   ]
  },
  {
   "cell_type": "code",
   "execution_count": 9,
   "id": "8b8004e3-7379-451a-9341-f4f91c443ac2",
   "metadata": {},
   "outputs": [
    {
     "data": {
      "text/plain": [
       "Date                         0\n",
       "Hour                         0\n",
       "Temperature(째C)              0\n",
       "Humidity(%)                  0\n",
       "Wind speed (m/s)             0\n",
       "Visibility (10m)             0\n",
       "Dew point temperature(째C)    0\n",
       "Solar Radiation (MJ/m2)      0\n",
       "Rainfall(mm)                 0\n",
       "Snowfall (cm)                0\n",
       "Seasons                      0\n",
       "Holiday                      0\n",
       "Functioning Day              0\n",
       "year                         0\n",
       "month                        0\n",
       "day                          0\n",
       "weekday                      0\n",
       "dtype: int64"
      ]
     },
     "execution_count": 9,
     "metadata": {},
     "output_type": "execute_result"
    }
   ],
   "source": [
    "df_test.isna().sum() #결측치 없음"
   ]
  },
  {
   "cell_type": "markdown",
   "id": "48d403f5-0072-44e4-8e11-9ad35dbe32f3",
   "metadata": {},
   "source": [
    "#### **2. 2차 전처리**"
   ]
  },
  {
   "cell_type": "markdown",
   "id": "226e1cc6-7384-4e43-8df1-b7a6fe969cba",
   "metadata": {},
   "source": [
    "#### **2-1. 범주형 데이터 수치화**"
   ]
  },
  {
   "cell_type": "code",
   "execution_count": 10,
   "id": "146fc95e-a416-44d6-b327-3ba254d6a670",
   "metadata": {},
   "outputs": [
    {
     "data": {
      "text/plain": [
       "array([[0., 0., 0., 1., 0., 1.],\n",
       "       [0., 0., 0., 1., 0., 1.],\n",
       "       [0., 0., 0., 1., 0., 1.],\n",
       "       ...,\n",
       "       [1., 0., 0., 0., 0., 1.],\n",
       "       [1., 0., 0., 0., 0., 1.],\n",
       "       [1., 0., 0., 0., 0., 1.]])"
      ]
     },
     "execution_count": 10,
     "metadata": {},
     "output_type": "execute_result"
    }
   ],
   "source": [
    "ohe = OneHotEncoder(sparse_output=False)\n",
    "result_ohe = ohe.fit_transform(df_train[['Seasons','Holiday']])\n",
    "result_ohe"
   ]
  },
  {
   "cell_type": "code",
   "execution_count": 11,
   "id": "861d8bcc-53a9-46a8-81df-f6e954fa0019",
   "metadata": {},
   "outputs": [
    {
     "data": {
      "text/plain": [
       "[array(['Autumn', 'Spring', 'Summer', 'Winter'], dtype=object),\n",
       " array(['Holiday', 'No Holiday'], dtype=object)]"
      ]
     },
     "execution_count": 11,
     "metadata": {},
     "output_type": "execute_result"
    }
   ],
   "source": [
    "ohe.categories_"
   ]
  },
  {
   "cell_type": "code",
   "execution_count": 12,
   "id": "3d54d657-eccb-4ec0-92b4-77152f5e4aaf",
   "metadata": {},
   "outputs": [
    {
     "data": {
      "text/html": [
       "<div>\n",
       "<style scoped>\n",
       "    .dataframe tbody tr th:only-of-type {\n",
       "        vertical-align: middle;\n",
       "    }\n",
       "\n",
       "    .dataframe tbody tr th {\n",
       "        vertical-align: top;\n",
       "    }\n",
       "\n",
       "    .dataframe thead th {\n",
       "        text-align: right;\n",
       "    }\n",
       "</style>\n",
       "<table border=\"1\" class=\"dataframe\">\n",
       "  <thead>\n",
       "    <tr style=\"text-align: right;\">\n",
       "      <th></th>\n",
       "      <th>Seasons_Autumn</th>\n",
       "      <th>Seasons_Spring</th>\n",
       "      <th>Seasons_Summer</th>\n",
       "      <th>Seasons_Winter</th>\n",
       "      <th>Holiday_Holiday</th>\n",
       "      <th>Holiday_No Holiday</th>\n",
       "    </tr>\n",
       "  </thead>\n",
       "  <tbody>\n",
       "    <tr>\n",
       "      <th>0</th>\n",
       "      <td>0.0</td>\n",
       "      <td>0.0</td>\n",
       "      <td>0.0</td>\n",
       "      <td>1.0</td>\n",
       "      <td>0.0</td>\n",
       "      <td>1.0</td>\n",
       "    </tr>\n",
       "    <tr>\n",
       "      <th>1</th>\n",
       "      <td>0.0</td>\n",
       "      <td>0.0</td>\n",
       "      <td>0.0</td>\n",
       "      <td>1.0</td>\n",
       "      <td>0.0</td>\n",
       "      <td>1.0</td>\n",
       "    </tr>\n",
       "    <tr>\n",
       "      <th>2</th>\n",
       "      <td>0.0</td>\n",
       "      <td>0.0</td>\n",
       "      <td>0.0</td>\n",
       "      <td>1.0</td>\n",
       "      <td>0.0</td>\n",
       "      <td>1.0</td>\n",
       "    </tr>\n",
       "    <tr>\n",
       "      <th>3</th>\n",
       "      <td>0.0</td>\n",
       "      <td>0.0</td>\n",
       "      <td>0.0</td>\n",
       "      <td>1.0</td>\n",
       "      <td>0.0</td>\n",
       "      <td>1.0</td>\n",
       "    </tr>\n",
       "    <tr>\n",
       "      <th>4</th>\n",
       "      <td>0.0</td>\n",
       "      <td>0.0</td>\n",
       "      <td>0.0</td>\n",
       "      <td>1.0</td>\n",
       "      <td>0.0</td>\n",
       "      <td>1.0</td>\n",
       "    </tr>\n",
       "    <tr>\n",
       "      <th>...</th>\n",
       "      <td>...</td>\n",
       "      <td>...</td>\n",
       "      <td>...</td>\n",
       "      <td>...</td>\n",
       "      <td>...</td>\n",
       "      <td>...</td>\n",
       "    </tr>\n",
       "    <tr>\n",
       "      <th>8035</th>\n",
       "      <td>1.0</td>\n",
       "      <td>0.0</td>\n",
       "      <td>0.0</td>\n",
       "      <td>0.0</td>\n",
       "      <td>0.0</td>\n",
       "      <td>1.0</td>\n",
       "    </tr>\n",
       "    <tr>\n",
       "      <th>8036</th>\n",
       "      <td>1.0</td>\n",
       "      <td>0.0</td>\n",
       "      <td>0.0</td>\n",
       "      <td>0.0</td>\n",
       "      <td>0.0</td>\n",
       "      <td>1.0</td>\n",
       "    </tr>\n",
       "    <tr>\n",
       "      <th>8037</th>\n",
       "      <td>1.0</td>\n",
       "      <td>0.0</td>\n",
       "      <td>0.0</td>\n",
       "      <td>0.0</td>\n",
       "      <td>0.0</td>\n",
       "      <td>1.0</td>\n",
       "    </tr>\n",
       "    <tr>\n",
       "      <th>8038</th>\n",
       "      <td>1.0</td>\n",
       "      <td>0.0</td>\n",
       "      <td>0.0</td>\n",
       "      <td>0.0</td>\n",
       "      <td>0.0</td>\n",
       "      <td>1.0</td>\n",
       "    </tr>\n",
       "    <tr>\n",
       "      <th>8039</th>\n",
       "      <td>1.0</td>\n",
       "      <td>0.0</td>\n",
       "      <td>0.0</td>\n",
       "      <td>0.0</td>\n",
       "      <td>0.0</td>\n",
       "      <td>1.0</td>\n",
       "    </tr>\n",
       "  </tbody>\n",
       "</table>\n",
       "<p>8040 rows × 6 columns</p>\n",
       "</div>"
      ],
      "text/plain": [
       "      Seasons_Autumn  Seasons_Spring  Seasons_Summer  Seasons_Winter  \\\n",
       "0                0.0             0.0             0.0             1.0   \n",
       "1                0.0             0.0             0.0             1.0   \n",
       "2                0.0             0.0             0.0             1.0   \n",
       "3                0.0             0.0             0.0             1.0   \n",
       "4                0.0             0.0             0.0             1.0   \n",
       "...              ...             ...             ...             ...   \n",
       "8035             1.0             0.0             0.0             0.0   \n",
       "8036             1.0             0.0             0.0             0.0   \n",
       "8037             1.0             0.0             0.0             0.0   \n",
       "8038             1.0             0.0             0.0             0.0   \n",
       "8039             1.0             0.0             0.0             0.0   \n",
       "\n",
       "      Holiday_Holiday  Holiday_No Holiday  \n",
       "0                 0.0                 1.0  \n",
       "1                 0.0                 1.0  \n",
       "2                 0.0                 1.0  \n",
       "3                 0.0                 1.0  \n",
       "4                 0.0                 1.0  \n",
       "...               ...                 ...  \n",
       "8035              0.0                 1.0  \n",
       "8036              0.0                 1.0  \n",
       "8037              0.0                 1.0  \n",
       "8038              0.0                 1.0  \n",
       "8039              0.0                 1.0  \n",
       "\n",
       "[8040 rows x 6 columns]"
      ]
     },
     "execution_count": 12,
     "metadata": {},
     "output_type": "execute_result"
    }
   ],
   "source": [
    "df_ohe = pd.DataFrame(result_ohe, columns=ohe.get_feature_names_out(['Seasons','Holiday']))\n",
    "df_ohe"
   ]
  },
  {
   "cell_type": "code",
   "execution_count": 13,
   "id": "c3d90acf-9595-49b7-a8fd-ef30114999c4",
   "metadata": {},
   "outputs": [
    {
     "data": {
      "text/html": [
       "<div>\n",
       "<style scoped>\n",
       "    .dataframe tbody tr th:only-of-type {\n",
       "        vertical-align: middle;\n",
       "    }\n",
       "\n",
       "    .dataframe tbody tr th {\n",
       "        vertical-align: top;\n",
       "    }\n",
       "\n",
       "    .dataframe thead th {\n",
       "        text-align: right;\n",
       "    }\n",
       "</style>\n",
       "<table border=\"1\" class=\"dataframe\">\n",
       "  <thead>\n",
       "    <tr style=\"text-align: right;\">\n",
       "      <th></th>\n",
       "      <th>Date</th>\n",
       "      <th>Rented Bike Count</th>\n",
       "      <th>Hour</th>\n",
       "      <th>Temperature(째C)</th>\n",
       "      <th>Humidity(%)</th>\n",
       "      <th>Wind speed (m/s)</th>\n",
       "      <th>Visibility (10m)</th>\n",
       "      <th>Dew point temperature(째C)</th>\n",
       "      <th>Solar Radiation (MJ/m2)</th>\n",
       "      <th>Rainfall(mm)</th>\n",
       "      <th>...</th>\n",
       "      <th>month</th>\n",
       "      <th>day</th>\n",
       "      <th>weekday</th>\n",
       "      <th>log-transformed Solar Radiation</th>\n",
       "      <th>Seasons_Autumn</th>\n",
       "      <th>Seasons_Spring</th>\n",
       "      <th>Seasons_Summer</th>\n",
       "      <th>Seasons_Winter</th>\n",
       "      <th>Holiday_Holiday</th>\n",
       "      <th>Holiday_No Holiday</th>\n",
       "    </tr>\n",
       "  </thead>\n",
       "  <tbody>\n",
       "    <tr>\n",
       "      <th>0</th>\n",
       "      <td>2017-12-01</td>\n",
       "      <td>254</td>\n",
       "      <td>0</td>\n",
       "      <td>-5.2</td>\n",
       "      <td>37</td>\n",
       "      <td>2.2</td>\n",
       "      <td>2000</td>\n",
       "      <td>-17.6</td>\n",
       "      <td>0.0</td>\n",
       "      <td>0.0</td>\n",
       "      <td>...</td>\n",
       "      <td>12</td>\n",
       "      <td>1</td>\n",
       "      <td>Friday</td>\n",
       "      <td>0.0</td>\n",
       "      <td>0.0</td>\n",
       "      <td>0.0</td>\n",
       "      <td>0.0</td>\n",
       "      <td>1.0</td>\n",
       "      <td>0.0</td>\n",
       "      <td>1.0</td>\n",
       "    </tr>\n",
       "    <tr>\n",
       "      <th>1</th>\n",
       "      <td>2017-12-01</td>\n",
       "      <td>204</td>\n",
       "      <td>1</td>\n",
       "      <td>-5.5</td>\n",
       "      <td>38</td>\n",
       "      <td>0.8</td>\n",
       "      <td>2000</td>\n",
       "      <td>-17.6</td>\n",
       "      <td>0.0</td>\n",
       "      <td>0.0</td>\n",
       "      <td>...</td>\n",
       "      <td>12</td>\n",
       "      <td>1</td>\n",
       "      <td>Friday</td>\n",
       "      <td>0.0</td>\n",
       "      <td>0.0</td>\n",
       "      <td>0.0</td>\n",
       "      <td>0.0</td>\n",
       "      <td>1.0</td>\n",
       "      <td>0.0</td>\n",
       "      <td>1.0</td>\n",
       "    </tr>\n",
       "    <tr>\n",
       "      <th>2</th>\n",
       "      <td>2017-12-01</td>\n",
       "      <td>173</td>\n",
       "      <td>2</td>\n",
       "      <td>-6.0</td>\n",
       "      <td>39</td>\n",
       "      <td>1.0</td>\n",
       "      <td>2000</td>\n",
       "      <td>-17.7</td>\n",
       "      <td>0.0</td>\n",
       "      <td>0.0</td>\n",
       "      <td>...</td>\n",
       "      <td>12</td>\n",
       "      <td>1</td>\n",
       "      <td>Friday</td>\n",
       "      <td>0.0</td>\n",
       "      <td>0.0</td>\n",
       "      <td>0.0</td>\n",
       "      <td>0.0</td>\n",
       "      <td>1.0</td>\n",
       "      <td>0.0</td>\n",
       "      <td>1.0</td>\n",
       "    </tr>\n",
       "    <tr>\n",
       "      <th>3</th>\n",
       "      <td>2017-12-01</td>\n",
       "      <td>107</td>\n",
       "      <td>3</td>\n",
       "      <td>-6.2</td>\n",
       "      <td>40</td>\n",
       "      <td>0.9</td>\n",
       "      <td>2000</td>\n",
       "      <td>-17.6</td>\n",
       "      <td>0.0</td>\n",
       "      <td>0.0</td>\n",
       "      <td>...</td>\n",
       "      <td>12</td>\n",
       "      <td>1</td>\n",
       "      <td>Friday</td>\n",
       "      <td>0.0</td>\n",
       "      <td>0.0</td>\n",
       "      <td>0.0</td>\n",
       "      <td>0.0</td>\n",
       "      <td>1.0</td>\n",
       "      <td>0.0</td>\n",
       "      <td>1.0</td>\n",
       "    </tr>\n",
       "    <tr>\n",
       "      <th>4</th>\n",
       "      <td>2017-12-01</td>\n",
       "      <td>78</td>\n",
       "      <td>4</td>\n",
       "      <td>-6.0</td>\n",
       "      <td>36</td>\n",
       "      <td>1.2</td>\n",
       "      <td>2000</td>\n",
       "      <td>-18.6</td>\n",
       "      <td>0.0</td>\n",
       "      <td>0.0</td>\n",
       "      <td>...</td>\n",
       "      <td>12</td>\n",
       "      <td>1</td>\n",
       "      <td>Friday</td>\n",
       "      <td>0.0</td>\n",
       "      <td>0.0</td>\n",
       "      <td>0.0</td>\n",
       "      <td>0.0</td>\n",
       "      <td>1.0</td>\n",
       "      <td>0.0</td>\n",
       "      <td>1.0</td>\n",
       "    </tr>\n",
       "  </tbody>\n",
       "</table>\n",
       "<p>5 rows × 25 columns</p>\n",
       "</div>"
      ],
      "text/plain": [
       "         Date  Rented Bike Count  Hour  Temperature(째C)  Humidity(%)  \\\n",
       "0  2017-12-01                254     0             -5.2           37   \n",
       "1  2017-12-01                204     1             -5.5           38   \n",
       "2  2017-12-01                173     2             -6.0           39   \n",
       "3  2017-12-01                107     3             -6.2           40   \n",
       "4  2017-12-01                 78     4             -6.0           36   \n",
       "\n",
       "   Wind speed (m/s)  Visibility (10m)  Dew point temperature(째C)  \\\n",
       "0               2.2              2000                      -17.6   \n",
       "1               0.8              2000                      -17.6   \n",
       "2               1.0              2000                      -17.7   \n",
       "3               0.9              2000                      -17.6   \n",
       "4               1.2              2000                      -18.6   \n",
       "\n",
       "   Solar Radiation (MJ/m2)  Rainfall(mm)  ...  month day weekday  \\\n",
       "0                      0.0           0.0  ...     12   1  Friday   \n",
       "1                      0.0           0.0  ...     12   1  Friday   \n",
       "2                      0.0           0.0  ...     12   1  Friday   \n",
       "3                      0.0           0.0  ...     12   1  Friday   \n",
       "4                      0.0           0.0  ...     12   1  Friday   \n",
       "\n",
       "  log-transformed Solar Radiation  Seasons_Autumn  Seasons_Spring  \\\n",
       "0                             0.0             0.0             0.0   \n",
       "1                             0.0             0.0             0.0   \n",
       "2                             0.0             0.0             0.0   \n",
       "3                             0.0             0.0             0.0   \n",
       "4                             0.0             0.0             0.0   \n",
       "\n",
       "   Seasons_Summer Seasons_Winter  Holiday_Holiday  Holiday_No Holiday  \n",
       "0             0.0            1.0              0.0                 1.0  \n",
       "1             0.0            1.0              0.0                 1.0  \n",
       "2             0.0            1.0              0.0                 1.0  \n",
       "3             0.0            1.0              0.0                 1.0  \n",
       "4             0.0            1.0              0.0                 1.0  \n",
       "\n",
       "[5 rows x 25 columns]"
      ]
     },
     "execution_count": 13,
     "metadata": {},
     "output_type": "execute_result"
    }
   ],
   "source": [
    "df_train = pd.concat([df_train, df_ohe], axis=1)\n",
    "df_train.head()"
   ]
  },
  {
   "cell_type": "code",
   "execution_count": 14,
   "id": "10517a58-1288-4d8d-b936-6703040281bb",
   "metadata": {},
   "outputs": [
    {
     "data": {
      "text/plain": [
       "array([[1., 1.],\n",
       "       [1., 1.],\n",
       "       [1., 1.],\n",
       "       ...,\n",
       "       [1., 1.],\n",
       "       [1., 1.],\n",
       "       [1., 1.]])"
      ]
     },
     "execution_count": 14,
     "metadata": {},
     "output_type": "execute_result"
    }
   ],
   "source": [
    "result_ohe = ohe.fit_transform(df_test[['Seasons','Holiday']])\n",
    "result_ohe"
   ]
  },
  {
   "cell_type": "code",
   "execution_count": 15,
   "id": "b86c6e00-4b8e-4a58-b15e-3310bdb6ebc6",
   "metadata": {},
   "outputs": [
    {
     "data": {
      "text/plain": [
       "[array(['Autumn'], dtype=object), array(['No Holiday'], dtype=object)]"
      ]
     },
     "execution_count": 15,
     "metadata": {},
     "output_type": "execute_result"
    }
   ],
   "source": [
    "ohe.categories_"
   ]
  },
  {
   "cell_type": "code",
   "execution_count": 16,
   "id": "a4b4705f-b2e4-41fe-af27-a633f0a32fed",
   "metadata": {},
   "outputs": [
    {
     "data": {
      "text/html": [
       "<div>\n",
       "<style scoped>\n",
       "    .dataframe tbody tr th:only-of-type {\n",
       "        vertical-align: middle;\n",
       "    }\n",
       "\n",
       "    .dataframe tbody tr th {\n",
       "        vertical-align: top;\n",
       "    }\n",
       "\n",
       "    .dataframe thead th {\n",
       "        text-align: right;\n",
       "    }\n",
       "</style>\n",
       "<table border=\"1\" class=\"dataframe\">\n",
       "  <thead>\n",
       "    <tr style=\"text-align: right;\">\n",
       "      <th></th>\n",
       "      <th>Seasons_Autumn</th>\n",
       "      <th>Holiday_No Holiday</th>\n",
       "    </tr>\n",
       "  </thead>\n",
       "  <tbody>\n",
       "    <tr>\n",
       "      <th>0</th>\n",
       "      <td>1.0</td>\n",
       "      <td>1.0</td>\n",
       "    </tr>\n",
       "    <tr>\n",
       "      <th>1</th>\n",
       "      <td>1.0</td>\n",
       "      <td>1.0</td>\n",
       "    </tr>\n",
       "    <tr>\n",
       "      <th>2</th>\n",
       "      <td>1.0</td>\n",
       "      <td>1.0</td>\n",
       "    </tr>\n",
       "    <tr>\n",
       "      <th>3</th>\n",
       "      <td>1.0</td>\n",
       "      <td>1.0</td>\n",
       "    </tr>\n",
       "    <tr>\n",
       "      <th>4</th>\n",
       "      <td>1.0</td>\n",
       "      <td>1.0</td>\n",
       "    </tr>\n",
       "    <tr>\n",
       "      <th>...</th>\n",
       "      <td>...</td>\n",
       "      <td>...</td>\n",
       "    </tr>\n",
       "    <tr>\n",
       "      <th>715</th>\n",
       "      <td>1.0</td>\n",
       "      <td>1.0</td>\n",
       "    </tr>\n",
       "    <tr>\n",
       "      <th>716</th>\n",
       "      <td>1.0</td>\n",
       "      <td>1.0</td>\n",
       "    </tr>\n",
       "    <tr>\n",
       "      <th>717</th>\n",
       "      <td>1.0</td>\n",
       "      <td>1.0</td>\n",
       "    </tr>\n",
       "    <tr>\n",
       "      <th>718</th>\n",
       "      <td>1.0</td>\n",
       "      <td>1.0</td>\n",
       "    </tr>\n",
       "    <tr>\n",
       "      <th>719</th>\n",
       "      <td>1.0</td>\n",
       "      <td>1.0</td>\n",
       "    </tr>\n",
       "  </tbody>\n",
       "</table>\n",
       "<p>720 rows × 2 columns</p>\n",
       "</div>"
      ],
      "text/plain": [
       "     Seasons_Autumn  Holiday_No Holiday\n",
       "0               1.0                 1.0\n",
       "1               1.0                 1.0\n",
       "2               1.0                 1.0\n",
       "3               1.0                 1.0\n",
       "4               1.0                 1.0\n",
       "..              ...                 ...\n",
       "715             1.0                 1.0\n",
       "716             1.0                 1.0\n",
       "717             1.0                 1.0\n",
       "718             1.0                 1.0\n",
       "719             1.0                 1.0\n",
       "\n",
       "[720 rows x 2 columns]"
      ]
     },
     "execution_count": 16,
     "metadata": {},
     "output_type": "execute_result"
    }
   ],
   "source": [
    "df_ohe2 = pd.DataFrame(result_ohe, columns=ohe.get_feature_names_out(['Seasons','Holiday']))\n",
    "df_ohe2"
   ]
  },
  {
   "cell_type": "code",
   "execution_count": 17,
   "id": "d2d0c7d9-490c-4197-b2aa-87c6f38a2405",
   "metadata": {},
   "outputs": [
    {
     "data": {
      "text/html": [
       "<div>\n",
       "<style scoped>\n",
       "    .dataframe tbody tr th:only-of-type {\n",
       "        vertical-align: middle;\n",
       "    }\n",
       "\n",
       "    .dataframe tbody tr th {\n",
       "        vertical-align: top;\n",
       "    }\n",
       "\n",
       "    .dataframe thead th {\n",
       "        text-align: right;\n",
       "    }\n",
       "</style>\n",
       "<table border=\"1\" class=\"dataframe\">\n",
       "  <thead>\n",
       "    <tr style=\"text-align: right;\">\n",
       "      <th></th>\n",
       "      <th>Date</th>\n",
       "      <th>Hour</th>\n",
       "      <th>Temperature(째C)</th>\n",
       "      <th>Humidity(%)</th>\n",
       "      <th>Wind speed (m/s)</th>\n",
       "      <th>Visibility (10m)</th>\n",
       "      <th>Dew point temperature(째C)</th>\n",
       "      <th>Solar Radiation (MJ/m2)</th>\n",
       "      <th>Rainfall(mm)</th>\n",
       "      <th>Snowfall (cm)</th>\n",
       "      <th>Seasons</th>\n",
       "      <th>Holiday</th>\n",
       "      <th>Functioning Day</th>\n",
       "      <th>year</th>\n",
       "      <th>month</th>\n",
       "      <th>day</th>\n",
       "      <th>weekday</th>\n",
       "      <th>Seasons_Autumn</th>\n",
       "      <th>Holiday_No Holiday</th>\n",
       "    </tr>\n",
       "  </thead>\n",
       "  <tbody>\n",
       "    <tr>\n",
       "      <th>0</th>\n",
       "      <td>2018-11-01</td>\n",
       "      <td>0</td>\n",
       "      <td>5.7</td>\n",
       "      <td>62</td>\n",
       "      <td>2.30</td>\n",
       "      <td>1909</td>\n",
       "      <td>-1.0</td>\n",
       "      <td>0.0</td>\n",
       "      <td>0.0</td>\n",
       "      <td>0.0</td>\n",
       "      <td>Autumn</td>\n",
       "      <td>No Holiday</td>\n",
       "      <td>Yes</td>\n",
       "      <td>2018</td>\n",
       "      <td>11</td>\n",
       "      <td>1</td>\n",
       "      <td>Thursday</td>\n",
       "      <td>1.0</td>\n",
       "      <td>1.0</td>\n",
       "    </tr>\n",
       "    <tr>\n",
       "      <th>1</th>\n",
       "      <td>2018-11-01</td>\n",
       "      <td>1</td>\n",
       "      <td>5.1</td>\n",
       "      <td>65</td>\n",
       "      <td>1.60</td>\n",
       "      <td>1932</td>\n",
       "      <td>-0.9</td>\n",
       "      <td>0.0</td>\n",
       "      <td>0.0</td>\n",
       "      <td>0.0</td>\n",
       "      <td>Autumn</td>\n",
       "      <td>No Holiday</td>\n",
       "      <td>Yes</td>\n",
       "      <td>2018</td>\n",
       "      <td>11</td>\n",
       "      <td>1</td>\n",
       "      <td>Thursday</td>\n",
       "      <td>1.0</td>\n",
       "      <td>1.0</td>\n",
       "    </tr>\n",
       "    <tr>\n",
       "      <th>2</th>\n",
       "      <td>2018-11-01</td>\n",
       "      <td>2</td>\n",
       "      <td>4.4</td>\n",
       "      <td>64</td>\n",
       "      <td>1.15</td>\n",
       "      <td>2000</td>\n",
       "      <td>-1.8</td>\n",
       "      <td>0.0</td>\n",
       "      <td>0.0</td>\n",
       "      <td>0.0</td>\n",
       "      <td>Autumn</td>\n",
       "      <td>No Holiday</td>\n",
       "      <td>Yes</td>\n",
       "      <td>2018</td>\n",
       "      <td>11</td>\n",
       "      <td>1</td>\n",
       "      <td>Thursday</td>\n",
       "      <td>1.0</td>\n",
       "      <td>1.0</td>\n",
       "    </tr>\n",
       "    <tr>\n",
       "      <th>3</th>\n",
       "      <td>2018-11-01</td>\n",
       "      <td>3</td>\n",
       "      <td>4.2</td>\n",
       "      <td>65</td>\n",
       "      <td>0.70</td>\n",
       "      <td>1962</td>\n",
       "      <td>-1.8</td>\n",
       "      <td>0.0</td>\n",
       "      <td>0.0</td>\n",
       "      <td>0.0</td>\n",
       "      <td>Autumn</td>\n",
       "      <td>No Holiday</td>\n",
       "      <td>Yes</td>\n",
       "      <td>2018</td>\n",
       "      <td>11</td>\n",
       "      <td>1</td>\n",
       "      <td>Thursday</td>\n",
       "      <td>1.0</td>\n",
       "      <td>1.0</td>\n",
       "    </tr>\n",
       "    <tr>\n",
       "      <th>4</th>\n",
       "      <td>2018-11-01</td>\n",
       "      <td>4</td>\n",
       "      <td>3.6</td>\n",
       "      <td>70</td>\n",
       "      <td>0.80</td>\n",
       "      <td>1934</td>\n",
       "      <td>-1.3</td>\n",
       "      <td>0.0</td>\n",
       "      <td>0.0</td>\n",
       "      <td>0.0</td>\n",
       "      <td>Autumn</td>\n",
       "      <td>No Holiday</td>\n",
       "      <td>Yes</td>\n",
       "      <td>2018</td>\n",
       "      <td>11</td>\n",
       "      <td>1</td>\n",
       "      <td>Thursday</td>\n",
       "      <td>1.0</td>\n",
       "      <td>1.0</td>\n",
       "    </tr>\n",
       "  </tbody>\n",
       "</table>\n",
       "</div>"
      ],
      "text/plain": [
       "         Date  Hour  Temperature(째C)  Humidity(%)  Wind speed (m/s)  \\\n",
       "0  2018-11-01     0              5.7           62              2.30   \n",
       "1  2018-11-01     1              5.1           65              1.60   \n",
       "2  2018-11-01     2              4.4           64              1.15   \n",
       "3  2018-11-01     3              4.2           65              0.70   \n",
       "4  2018-11-01     4              3.6           70              0.80   \n",
       "\n",
       "   Visibility (10m)  Dew point temperature(째C)  Solar Radiation (MJ/m2)  \\\n",
       "0              1909                       -1.0                      0.0   \n",
       "1              1932                       -0.9                      0.0   \n",
       "2              2000                       -1.8                      0.0   \n",
       "3              1962                       -1.8                      0.0   \n",
       "4              1934                       -1.3                      0.0   \n",
       "\n",
       "   Rainfall(mm)  Snowfall (cm) Seasons     Holiday Functioning Day  year  \\\n",
       "0           0.0            0.0  Autumn  No Holiday             Yes  2018   \n",
       "1           0.0            0.0  Autumn  No Holiday             Yes  2018   \n",
       "2           0.0            0.0  Autumn  No Holiday             Yes  2018   \n",
       "3           0.0            0.0  Autumn  No Holiday             Yes  2018   \n",
       "4           0.0            0.0  Autumn  No Holiday             Yes  2018   \n",
       "\n",
       "   month  day   weekday  Seasons_Autumn  Holiday_No Holiday  \n",
       "0     11    1  Thursday             1.0                 1.0  \n",
       "1     11    1  Thursday             1.0                 1.0  \n",
       "2     11    1  Thursday             1.0                 1.0  \n",
       "3     11    1  Thursday             1.0                 1.0  \n",
       "4     11    1  Thursday             1.0                 1.0  "
      ]
     },
     "execution_count": 17,
     "metadata": {},
     "output_type": "execute_result"
    }
   ],
   "source": [
    "df_test = pd.concat([df_test, df_ohe2], axis=1)\n",
    "df_test.head()"
   ]
  },
  {
   "cell_type": "markdown",
   "id": "1b013e8f-c566-4540-93d8-b7f4990cf866",
   "metadata": {},
   "source": [
    "#### **2-2. 순서형 변수 라벨인코딩(4주차 과제에서는 weekday를 2-1.에 포함시켜 진행했지만, 따로 라벨인코딩을 진행함.)**\n",
    "##### weekday\n",
    "##### monday=0 >>> sunday=6\n",
    "##### df_train과 df_test에 함께 적용"
   ]
  },
  {
   "cell_type": "code",
   "execution_count": 18,
   "id": "d1f492f5-d1db-4f07-911a-22281788c24d",
   "metadata": {},
   "outputs": [],
   "source": [
    "df_train['weekday2'] = df_train['weekday'].map({'Monday':0, 'Tuesday':1, 'Wednesday':2, 'Thursday':3, 'Friday':4, 'Saturday':5, 'Sunday':6})\n",
    "df_test['weekday2'] = df_test['weekday'].map({'Monday':0, 'Tuesday':1, 'Wednesday':2, 'Thursday':3, 'Friday':4, 'Saturday':5, 'Sunday':6})"
   ]
  },
  {
   "cell_type": "markdown",
   "id": "8d55a9f9-8274-4668-9086-aba829165549",
   "metadata": {},
   "source": [
    "#### **2-3. 필요없는 열 제거**"
   ]
  },
  {
   "cell_type": "code",
   "execution_count": 19,
   "id": "8a27c6a2-bf73-4fb6-b537-80e4afe92681",
   "metadata": {},
   "outputs": [],
   "source": [
    "df_train = df_train.drop(['Date','Seasons','Holiday','Functioning Day','weekday'], axis=1)\n",
    "df_test = df_test.drop(['Date','Seasons','Holiday','Functioning Day','weekday'], axis=1)"
   ]
  },
  {
   "cell_type": "markdown",
   "id": "d64d1748-039f-40a1-a373-d6f5ecb2f064",
   "metadata": {},
   "source": [
    "#### **3. train, valid, test 셋 분리**"
   ]
  },
  {
   "cell_type": "code",
   "execution_count": 20,
   "id": "8bb6754b-105e-4287-9442-53d8fd88d090",
   "metadata": {},
   "outputs": [],
   "source": [
    "X = df_train.drop('Rented Bike Count', axis=1)\n",
    "y = df_train['Rented Bike Count']"
   ]
  },
  {
   "cell_type": "code",
   "execution_count": 21,
   "id": "412a4318-8138-4ff9-b043-505fbaf1f8a0",
   "metadata": {},
   "outputs": [
    {
     "name": "stdout",
     "output_type": "stream",
     "text": [
      "(6432, 20) (1608, 20) (6432,) (1608,)\n"
     ]
    }
   ],
   "source": [
    "X_train, X_val, y_train, y_val = train_test_split(X, y, train_size=0.8, test_size=0.2, random_state=42)\n",
    "print(X_train.shape, X_val.shape, y_train.shape, y_val.shape)"
   ]
  },
  {
   "cell_type": "markdown",
   "id": "1f452fa2-3984-4125-9e76-6633cabee2c1",
   "metadata": {},
   "source": [
    "#### **4. 변수 스케일링**"
   ]
  },
  {
   "cell_type": "markdown",
   "id": "7137f697-71ed-4f18-b876-ef89527b4a71",
   "metadata": {},
   "source": [
    "#### 4-1. Standard Scaler : 가장 일반적인 방법으로 평균을 0으로, 분산을 1인 정규분포로 조정"
   ]
  },
  {
   "cell_type": "code",
   "execution_count": 22,
   "id": "40dbc90b-035b-4a60-a023-65d504789b8d",
   "metadata": {},
   "outputs": [
    {
     "name": "stdout",
     "output_type": "stream",
     "text": [
      "train\n",
      "평균: -1.711317654748702e-14\n",
      "분산: 1.0\n"
     ]
    }
   ],
   "source": [
    "scaler = StandardScaler()\n",
    "\n",
    "X_train_scaler = scaler.fit_transform(X_train)\n",
    "\n",
    "print(\"train\")\n",
    "print(f'평균: {X_train_scaler.mean()}\\n분산: {X_train_scaler.std()}')"
   ]
  },
  {
   "cell_type": "code",
   "execution_count": 23,
   "id": "b87914c3-d169-4717-b887-73b97706da12",
   "metadata": {},
   "outputs": [
    {
     "name": "stdout",
     "output_type": "stream",
     "text": [
      "valid\n",
      "평균: -0.003492939657103318\n",
      "분산: 0.9901904491964756\n"
     ]
    }
   ],
   "source": [
    "X_val_scaler = scaler.transform(X_val)\n",
    "\n",
    "print(\"valid\")\n",
    "print(f'평균: {X_val_scaler.mean()}\\n분산: {X_val_scaler.std()}')"
   ]
  },
  {
   "cell_type": "markdown",
   "id": "f4e75dcb-3fd8-449b-86a9-e8254b80ceed",
   "metadata": {},
   "source": [
    "#### 4-2. MinMax Scaler : 최댓값과 최솟값을 사용하여 값의 분포를 [0,1]로 정규화\n"
   ]
  },
  {
   "cell_type": "code",
   "execution_count": 24,
   "id": "c8935121-44dc-46d9-86dd-8302d270bbb3",
   "metadata": {},
   "outputs": [
    {
     "name": "stdout",
     "output_type": "stream",
     "text": [
      "train\n",
      "최대: 1.0000000000000002\n",
      "최소: 0.0\n"
     ]
    }
   ],
   "source": [
    "mms = MinMaxScaler()\n",
    "X_train_mms = mms.fit_transform(X_train)\n",
    "\n",
    "print(\"train\")\n",
    "print(f'최대: {X_train_mms.max()}\\n최소: {X_train_mms.min()}')"
   ]
  },
  {
   "cell_type": "code",
   "execution_count": 25,
   "id": "41ced2b9-2eb0-41dd-8a86-753c4d13186d",
   "metadata": {},
   "outputs": [
    {
     "name": "stdout",
     "output_type": "stream",
     "text": [
      "valid\n",
      "최대: 1.0000000000000002\n",
      "최소: -0.00560652395514781\n"
     ]
    }
   ],
   "source": [
    "X_val_mms = mms.transform(X_val)\n",
    "\n",
    "print(\"valid\")\n",
    "print(f'최대: {X_val_mms.max()}\\n최소: {X_val_mms.min()}')"
   ]
  },
  {
   "cell_type": "markdown",
   "id": "1fea4c82-5f14-4fd3-848e-c418c628d4d6",
   "metadata": {},
   "source": [
    "#### 4-3. MaxAbs Scaler : 값의 절댓값이 [0,1]이 되도록 조정\n"
   ]
  },
  {
   "cell_type": "code",
   "execution_count": 26,
   "id": "b616b81c-0818-475d-b47a-44edb66ac595",
   "metadata": {},
   "outputs": [
    {
     "name": "stdout",
     "output_type": "stream",
     "text": [
      "train\n",
      "최대: 1.0\n",
      "최소: -1.0\n"
     ]
    }
   ],
   "source": [
    "mas = MaxAbsScaler()\n",
    "\n",
    "X_train_mas = mas.fit_transform(X_train)\n",
    "\n",
    "print(\"train\")\n",
    "print(f'최대: {X_train_mas.max()}\\n최소: {X_train_mas.min()}')"
   ]
  },
  {
   "cell_type": "code",
   "execution_count": 27,
   "id": "897cf523-58b6-42c6-91c2-c7ee054d0c65",
   "metadata": {},
   "outputs": [
    {
     "name": "stdout",
     "output_type": "stream",
     "text": [
      "valid\n",
      "최대: 1.0\n",
      "최소: -0.9705882352941175\n"
     ]
    }
   ],
   "source": [
    "X_val_mas = mas.transform(X_val)\n",
    "\n",
    "print(\"valid\")\n",
    "print(f'최대: {X_val_mas.max()}\\n최소: {X_val_mas.min()}')"
   ]
  },
  {
   "cell_type": "markdown",
   "id": "e41a915a-d4fe-4875-82ae-3987c80dc7ec",
   "metadata": {},
   "source": [
    "#### 4-4. Robust Scaler : 중앙값과 사분위수를 이용하여 값의 분포를 조정\n"
   ]
  },
  {
   "cell_type": "code",
   "execution_count": 28,
   "id": "89395691-15ff-476a-b63f-085ebb9bba44",
   "metadata": {},
   "outputs": [
    {
     "name": "stdout",
     "output_type": "stream",
     "text": [
      "train\n",
      "평균: 0.09650457015680036\n",
      "분산: 0.6276508156836258\n"
     ]
    }
   ],
   "source": [
    "rs = RobustScaler()\n",
    "\n",
    "X_train_rs = rs.fit_transform(X_train)\n",
    "\n",
    "print(\"train\")\n",
    "print(f'평균: {X_train_rs.mean()}\\n분산: {X_train_rs.std()}')"
   ]
  },
  {
   "cell_type": "code",
   "execution_count": 29,
   "id": "ebaa1d7c-65a5-40db-900a-56c4fd502011",
   "metadata": {},
   "outputs": [
    {
     "name": "stdout",
     "output_type": "stream",
     "text": [
      "valid\n",
      "평균: 0.09391676914092348\n",
      "분산: 0.6232446848797736\n"
     ]
    }
   ],
   "source": [
    "X_val_rs = rs.transform(X_val)\n",
    "\n",
    "print(\"valid\")\n",
    "print(f'평균: {X_val_rs.mean()}\\n분산: {X_val_rs.std()}')"
   ]
  },
  {
   "cell_type": "code",
   "execution_count": 30,
   "id": "297e5fa6-7dc9-4c91-9953-0474024a4151",
   "metadata": {},
   "outputs": [],
   "source": [
    "X_test = df_test.copy()"
   ]
  },
  {
   "cell_type": "markdown",
   "id": "f3c20eb8-03f8-4394-bc7a-7ddf65cd24e9",
   "metadata": {},
   "source": [
    "#### 5. 모델 학습"
   ]
  },
  {
   "cell_type": "markdown",
   "id": "6de07dae-3620-4674-a4ee-16ec18c74396",
   "metadata": {},
   "source": [
    "#### 5-1. Decision Tree"
   ]
  },
  {
   "cell_type": "code",
   "execution_count": 31,
   "id": "f2b916d4-0787-4d33-8334-b5400727d68a",
   "metadata": {},
   "outputs": [],
   "source": [
    "decisiontree_model=DecisionTreeRegressor(random_state=42)"
   ]
  },
  {
   "cell_type": "code",
   "execution_count": 32,
   "id": "d570dfbc-1a36-430a-ae35-90081fa902a4",
   "metadata": {},
   "outputs": [
    {
     "data": {
      "text/plain": [
       "{'ccp_alpha': 0.0,\n",
       " 'criterion': 'squared_error',\n",
       " 'max_depth': None,\n",
       " 'max_features': None,\n",
       " 'max_leaf_nodes': None,\n",
       " 'min_impurity_decrease': 0.0,\n",
       " 'min_samples_leaf': 1,\n",
       " 'min_samples_split': 2,\n",
       " 'min_weight_fraction_leaf': 0.0,\n",
       " 'random_state': 42,\n",
       " 'splitter': 'best'}"
      ]
     },
     "execution_count": 32,
     "metadata": {},
     "output_type": "execute_result"
    }
   ],
   "source": [
    "decisiontree_model.fit(X_train, y_train).get_params() #하이퍼파라미터 확인"
   ]
  },
  {
   "cell_type": "code",
   "execution_count": 33,
   "id": "ed4f09c0-cb6d-4cd6-8842-877f7dc72f40",
   "metadata": {},
   "outputs": [
    {
     "name": "stdout",
     "output_type": "stream",
     "text": [
      "R^2: 0.751706\n",
      "MAE: 167.734453\n",
      "MSE: 108925.626244\n",
      "RMSE: 330.038825\n"
     ]
    }
   ],
   "source": [
    "predict = decisiontree_model.predict(X_val)\n",
    "\n",
    "r_squared = r2_score(y_val, predict)\n",
    "mae = mean_absolute_error(y_val, predict)\n",
    "mse = mean_squared_error(y_val, predict) \n",
    "rmse = np.sqrt(mean_squared_error(y_val, predict))\n",
    "\n",
    "print(\"R^2: %f\" % (r_squared))\n",
    "print(\"MAE: %f\" % (mae))\n",
    "print(\"MSE: %f\" % (mse))\n",
    "print(\"RMSE: %f\" % (rmse))"
   ]
  },
  {
   "cell_type": "markdown",
   "id": "1358fdfe-715e-444b-bea4-2bd852ec74f8",
   "metadata": {},
   "source": [
    "#### 5-2. Random Forest"
   ]
  },
  {
   "cell_type": "code",
   "execution_count": 34,
   "id": "afd9707c-7412-4b5b-a307-8ccfdd7ad04d",
   "metadata": {},
   "outputs": [],
   "source": [
    "randomforest_model = RandomForestRegressor(random_state=42)"
   ]
  },
  {
   "cell_type": "code",
   "execution_count": 35,
   "id": "b54b0481-b26c-47da-beb7-a25ac9a4d47a",
   "metadata": {},
   "outputs": [
    {
     "data": {
      "text/plain": [
       "{'bootstrap': True,\n",
       " 'ccp_alpha': 0.0,\n",
       " 'criterion': 'squared_error',\n",
       " 'max_depth': None,\n",
       " 'max_features': 1.0,\n",
       " 'max_leaf_nodes': None,\n",
       " 'max_samples': None,\n",
       " 'min_impurity_decrease': 0.0,\n",
       " 'min_samples_leaf': 1,\n",
       " 'min_samples_split': 2,\n",
       " 'min_weight_fraction_leaf': 0.0,\n",
       " 'n_estimators': 100,\n",
       " 'n_jobs': None,\n",
       " 'oob_score': False,\n",
       " 'random_state': 42,\n",
       " 'verbose': 0,\n",
       " 'warm_start': False}"
      ]
     },
     "execution_count": 35,
     "metadata": {},
     "output_type": "execute_result"
    }
   ],
   "source": [
    "randomforest_model.fit(X_train, y_train).get_params() #하이퍼파라미터 확인"
   ]
  },
  {
   "cell_type": "code",
   "execution_count": 36,
   "id": "c08876e4-0983-417b-b0ed-c1490173a80c",
   "metadata": {},
   "outputs": [
    {
     "name": "stdout",
     "output_type": "stream",
     "text": [
      "R^2: 0.889121\n",
      "MAE: 117.044751\n",
      "MSE: 48642.240200\n",
      "RMSE: 220.549859\n"
     ]
    }
   ],
   "source": [
    "predict = randomforest_model.predict(X_val)\n",
    "\n",
    "r_squared = r2_score(y_val, predict)\n",
    "mae = mean_absolute_error(y_val, predict)\n",
    "mse = mean_squared_error(y_val, predict) \n",
    "rmse = np.sqrt(mean_squared_error(y_val, predict))\n",
    "\n",
    "print(\"R^2: %f\" % (r_squared))\n",
    "print(\"MAE: %f\" % (mae))\n",
    "print(\"MSE: %f\" % (mse))\n",
    "print(\"RMSE: %f\" % (rmse))"
   ]
  },
  {
   "cell_type": "markdown",
   "id": "b2e02377-d850-4354-8cb0-20a4f07c06e2",
   "metadata": {},
   "source": [
    "#### 5-3. XGBoost"
   ]
  },
  {
   "cell_type": "code",
   "execution_count": 37,
   "id": "57c24a83-ec24-4d01-9363-0b7492f676db",
   "metadata": {},
   "outputs": [],
   "source": [
    "xgboost_model = XGBRegressor(random_state=42)"
   ]
  },
  {
   "cell_type": "code",
   "execution_count": 38,
   "id": "570d1c0a-8de0-43e8-b432-03bb9a8a7d87",
   "metadata": {},
   "outputs": [
    {
     "data": {
      "text/plain": [
       "{'objective': 'reg:squarederror',\n",
       " 'base_score': None,\n",
       " 'booster': None,\n",
       " 'callbacks': None,\n",
       " 'colsample_bylevel': None,\n",
       " 'colsample_bynode': None,\n",
       " 'colsample_bytree': None,\n",
       " 'device': None,\n",
       " 'early_stopping_rounds': None,\n",
       " 'enable_categorical': False,\n",
       " 'eval_metric': None,\n",
       " 'feature_types': None,\n",
       " 'gamma': None,\n",
       " 'grow_policy': None,\n",
       " 'importance_type': None,\n",
       " 'interaction_constraints': None,\n",
       " 'learning_rate': None,\n",
       " 'max_bin': None,\n",
       " 'max_cat_threshold': None,\n",
       " 'max_cat_to_onehot': None,\n",
       " 'max_delta_step': None,\n",
       " 'max_depth': None,\n",
       " 'max_leaves': None,\n",
       " 'min_child_weight': None,\n",
       " 'missing': nan,\n",
       " 'monotone_constraints': None,\n",
       " 'multi_strategy': None,\n",
       " 'n_estimators': None,\n",
       " 'n_jobs': None,\n",
       " 'num_parallel_tree': None,\n",
       " 'random_state': 42,\n",
       " 'reg_alpha': None,\n",
       " 'reg_lambda': None,\n",
       " 'sampling_method': None,\n",
       " 'scale_pos_weight': None,\n",
       " 'subsample': None,\n",
       " 'tree_method': None,\n",
       " 'validate_parameters': None,\n",
       " 'verbosity': None}"
      ]
     },
     "execution_count": 38,
     "metadata": {},
     "output_type": "execute_result"
    }
   ],
   "source": [
    "xgboost_model.fit(X_train, y_train).get_params() #하이퍼파라미터 확인"
   ]
  },
  {
   "cell_type": "code",
   "execution_count": 39,
   "id": "e8050adc-dd5b-4ae7-88b4-fb72d0603bfd",
   "metadata": {},
   "outputs": [
    {
     "name": "stdout",
     "output_type": "stream",
     "text": [
      "R^2: 0.926715\n",
      "MAE: 108.293685\n",
      "MSE: 32150.048994\n",
      "RMSE: 179.304347\n"
     ]
    }
   ],
   "source": [
    "predict = xgboost_model.predict(X_val)\n",
    "\n",
    "r_squared = r2_score(y_val, predict)\n",
    "mae = mean_absolute_error(y_val, predict)\n",
    "mse = mean_squared_error(y_val, predict) \n",
    "rmse = np.sqrt(mean_squared_error(y_val, predict))\n",
    "\n",
    "print(\"R^2: %f\" % (r_squared))\n",
    "print(\"MAE: %f\" % (mae))\n",
    "print(\"MSE: %f\" % (mse))\n",
    "print(\"RMSE: %f\" % (rmse))"
   ]
  },
  {
   "cell_type": "markdown",
   "id": "366c57f0-87c0-4da7-aa04-9af4898818d7",
   "metadata": {},
   "source": [
    "#### 5-4. Linear Regression"
   ]
  },
  {
   "cell_type": "code",
   "execution_count": 40,
   "id": "70dc879f-6ad7-41a7-9b3e-1843702fe5dc",
   "metadata": {},
   "outputs": [],
   "source": [
    "linearregression_model = LinearRegression()"
   ]
  },
  {
   "cell_type": "code",
   "execution_count": 41,
   "id": "33e95738-9434-4068-a17a-b7f571b28372",
   "metadata": {},
   "outputs": [
    {
     "data": {
      "text/plain": [
       "{'copy_X': True, 'fit_intercept': True, 'n_jobs': None, 'positive': False}"
      ]
     },
     "execution_count": 41,
     "metadata": {},
     "output_type": "execute_result"
    }
   ],
   "source": [
    "linearregression_model.fit(X_train, y_train).get_params() #하이퍼파라미터 확인"
   ]
  },
  {
   "cell_type": "code",
   "execution_count": 42,
   "id": "87b133ba-966f-453e-84f4-c5a68ae95a1a",
   "metadata": {},
   "outputs": [
    {
     "name": "stdout",
     "output_type": "stream",
     "text": [
      "R^2: 0.537031\n",
      "MAE: 340.019730\n",
      "MSE: 203103.059880\n",
      "RMSE: 450.669568\n"
     ]
    }
   ],
   "source": [
    "predict = linearregression_model.predict(X_val)\n",
    "\n",
    "r_squared = r2_score(y_val, predict)\n",
    "mae = mean_absolute_error(y_val, predict)\n",
    "mse = mean_squared_error(y_val, predict) \n",
    "rmse = np.sqrt(mean_squared_error(y_val, predict))\n",
    "\n",
    "print(\"R^2: %f\" % (r_squared))\n",
    "print(\"MAE: %f\" % (mae))\n",
    "print(\"MSE: %f\" % (mse))\n",
    "print(\"RMSE: %f\" % (rmse))"
   ]
  },
  {
   "cell_type": "markdown",
   "id": "479fa09c-5b77-45e0-999f-ed65f9cb1520",
   "metadata": {},
   "source": [
    "#### Decision Tree R^2 : 0.75...\n",
    "#### Random Forest R^2 : 0.88...\n",
    "#### XGBoost R^2 : 0.92...\n",
    "#### Linear Regression R^2 : 0.53...\n",
    "\n",
    "#### 따라서, XGBoost를 대상으로 하이퍼파라미터 튜닝(수행시간이 길지만 정확도가 높다는 장점)3... "
   ]
  },
  {
   "cell_type": "markdown",
   "id": "e713889b-92c0-4f17-802c-00c1418a8b9e",
   "metadata": {},
   "source": [
    "#### 1. learning_rate(학습률) : 새로운 모델의 가중치 결정, 학습률이 낮으면 더 많은 모델이 필요하지만 더 나은 성능을 얻음\n",
    "#### 2. n_estimators(트리 개수) : 모델이 학습하는 결정 트리의 개수 결정, 더 많은 트리가 더 복잡한 모델 만듦, 과적합의 위험 증가\n",
    "#### 3. max_depth(트리 깊이) : 각 결정 트리의 최대 깊이 제한, 깊이가 깊은 트리는 더 복잡한 패턴 학습, 과적합의 위험 있음\n",
    "#### 4. subsample : 각 트리 모델 학습 시 사용되는 샘플 데이터의 비율\n",
    "#### 5. colsample_bytree : 각 트리 모델 학습 시 사용되는 특성 데이터의 비율"
   ]
  },
  {
   "cell_type": "code",
   "execution_count": 43,
   "id": "5e71a43d-238b-4357-bd5a-9575be7859d2",
   "metadata": {},
   "outputs": [],
   "source": [
    "model = XGBRegressor(random_state=42)\n",
    "\n",
    "param_grid = {\n",
    "    'n_estimators': [100, 200, 300],\n",
    "    'learning_rate': [0.01, 0.1, 0.2],\n",
    "    'max_depth': [3, 4, 5],\n",
    "    'subsample': [0.8, 0.9, 1.0],\n",
    "    'colsample_bytree': [0.8, 0.9, 1.0]\n",
    "}"
   ]
  },
  {
   "cell_type": "markdown",
   "id": "56768a43-faff-406d-8994-470eb7766613",
   "metadata": {},
   "source": [
    "#### GridSearch"
   ]
  },
  {
   "cell_type": "code",
   "execution_count": 44,
   "id": "94b04ff2-0f14-48a0-9df0-53ed42885955",
   "metadata": {},
   "outputs": [
    {
     "data": {
      "text/html": [
       "<style>#sk-container-id-1 {color: black;}#sk-container-id-1 pre{padding: 0;}#sk-container-id-1 div.sk-toggleable {background-color: white;}#sk-container-id-1 label.sk-toggleable__label {cursor: pointer;display: block;width: 100%;margin-bottom: 0;padding: 0.3em;box-sizing: border-box;text-align: center;}#sk-container-id-1 label.sk-toggleable__label-arrow:before {content: \"▸\";float: left;margin-right: 0.25em;color: #696969;}#sk-container-id-1 label.sk-toggleable__label-arrow:hover:before {color: black;}#sk-container-id-1 div.sk-estimator:hover label.sk-toggleable__label-arrow:before {color: black;}#sk-container-id-1 div.sk-toggleable__content {max-height: 0;max-width: 0;overflow: hidden;text-align: left;background-color: #f0f8ff;}#sk-container-id-1 div.sk-toggleable__content pre {margin: 0.2em;color: black;border-radius: 0.25em;background-color: #f0f8ff;}#sk-container-id-1 input.sk-toggleable__control:checked~div.sk-toggleable__content {max-height: 200px;max-width: 100%;overflow: auto;}#sk-container-id-1 input.sk-toggleable__control:checked~label.sk-toggleable__label-arrow:before {content: \"▾\";}#sk-container-id-1 div.sk-estimator input.sk-toggleable__control:checked~label.sk-toggleable__label {background-color: #d4ebff;}#sk-container-id-1 div.sk-label input.sk-toggleable__control:checked~label.sk-toggleable__label {background-color: #d4ebff;}#sk-container-id-1 input.sk-hidden--visually {border: 0;clip: rect(1px 1px 1px 1px);clip: rect(1px, 1px, 1px, 1px);height: 1px;margin: -1px;overflow: hidden;padding: 0;position: absolute;width: 1px;}#sk-container-id-1 div.sk-estimator {font-family: monospace;background-color: #f0f8ff;border: 1px dotted black;border-radius: 0.25em;box-sizing: border-box;margin-bottom: 0.5em;}#sk-container-id-1 div.sk-estimator:hover {background-color: #d4ebff;}#sk-container-id-1 div.sk-parallel-item::after {content: \"\";width: 100%;border-bottom: 1px solid gray;flex-grow: 1;}#sk-container-id-1 div.sk-label:hover label.sk-toggleable__label {background-color: #d4ebff;}#sk-container-id-1 div.sk-serial::before {content: \"\";position: absolute;border-left: 1px solid gray;box-sizing: border-box;top: 0;bottom: 0;left: 50%;z-index: 0;}#sk-container-id-1 div.sk-serial {display: flex;flex-direction: column;align-items: center;background-color: white;padding-right: 0.2em;padding-left: 0.2em;position: relative;}#sk-container-id-1 div.sk-item {position: relative;z-index: 1;}#sk-container-id-1 div.sk-parallel {display: flex;align-items: stretch;justify-content: center;background-color: white;position: relative;}#sk-container-id-1 div.sk-item::before, #sk-container-id-1 div.sk-parallel-item::before {content: \"\";position: absolute;border-left: 1px solid gray;box-sizing: border-box;top: 0;bottom: 0;left: 50%;z-index: -1;}#sk-container-id-1 div.sk-parallel-item {display: flex;flex-direction: column;z-index: 1;position: relative;background-color: white;}#sk-container-id-1 div.sk-parallel-item:first-child::after {align-self: flex-end;width: 50%;}#sk-container-id-1 div.sk-parallel-item:last-child::after {align-self: flex-start;width: 50%;}#sk-container-id-1 div.sk-parallel-item:only-child::after {width: 0;}#sk-container-id-1 div.sk-dashed-wrapped {border: 1px dashed gray;margin: 0 0.4em 0.5em 0.4em;box-sizing: border-box;padding-bottom: 0.4em;background-color: white;}#sk-container-id-1 div.sk-label label {font-family: monospace;font-weight: bold;display: inline-block;line-height: 1.2em;}#sk-container-id-1 div.sk-label-container {text-align: center;}#sk-container-id-1 div.sk-container {/* jupyter's `normalize.less` sets `[hidden] { display: none; }` but bootstrap.min.css set `[hidden] { display: none !important; }` so we also need the `!important` here to be able to override the default hidden behavior on the sphinx rendered scikit-learn.org. See: https://github.com/scikit-learn/scikit-learn/issues/21755 */display: inline-block !important;position: relative;}#sk-container-id-1 div.sk-text-repr-fallback {display: none;}</style><div id=\"sk-container-id-1\" class=\"sk-top-container\"><div class=\"sk-text-repr-fallback\"><pre>GridSearchCV(cv=5,\n",
       "             estimator=XGBRegressor(base_score=None, booster=None,\n",
       "                                    callbacks=None, colsample_bylevel=None,\n",
       "                                    colsample_bynode=None,\n",
       "                                    colsample_bytree=None, device=None,\n",
       "                                    early_stopping_rounds=None,\n",
       "                                    enable_categorical=False, eval_metric=None,\n",
       "                                    feature_types=None, gamma=None,\n",
       "                                    grow_policy=None, importance_type=None,\n",
       "                                    interaction_constraints=None,\n",
       "                                    learning_rate=None, m...\n",
       "                                    max_depth=None, max_leaves=None,\n",
       "                                    min_child_weight=None, missing=nan,\n",
       "                                    monotone_constraints=None,\n",
       "                                    multi_strategy=None, n_estimators=None,\n",
       "                                    n_jobs=None, num_parallel_tree=None,\n",
       "                                    random_state=42, ...),\n",
       "             param_grid={&#x27;colsample_bytree&#x27;: [0.8, 0.9, 1.0],\n",
       "                         &#x27;learning_rate&#x27;: [0.01, 0.1, 0.2],\n",
       "                         &#x27;max_depth&#x27;: [3, 4, 5],\n",
       "                         &#x27;n_estimators&#x27;: [100, 200, 300],\n",
       "                         &#x27;subsample&#x27;: [0.8, 0.9, 1.0]},\n",
       "             scoring=&#x27;neg_mean_squared_error&#x27;)</pre><b>In a Jupyter environment, please rerun this cell to show the HTML representation or trust the notebook. <br />On GitHub, the HTML representation is unable to render, please try loading this page with nbviewer.org.</b></div><div class=\"sk-container\" hidden><div class=\"sk-item sk-dashed-wrapped\"><div class=\"sk-label-container\"><div class=\"sk-label sk-toggleable\"><input class=\"sk-toggleable__control sk-hidden--visually\" id=\"sk-estimator-id-1\" type=\"checkbox\" ><label for=\"sk-estimator-id-1\" class=\"sk-toggleable__label sk-toggleable__label-arrow\">GridSearchCV</label><div class=\"sk-toggleable__content\"><pre>GridSearchCV(cv=5,\n",
       "             estimator=XGBRegressor(base_score=None, booster=None,\n",
       "                                    callbacks=None, colsample_bylevel=None,\n",
       "                                    colsample_bynode=None,\n",
       "                                    colsample_bytree=None, device=None,\n",
       "                                    early_stopping_rounds=None,\n",
       "                                    enable_categorical=False, eval_metric=None,\n",
       "                                    feature_types=None, gamma=None,\n",
       "                                    grow_policy=None, importance_type=None,\n",
       "                                    interaction_constraints=None,\n",
       "                                    learning_rate=None, m...\n",
       "                                    max_depth=None, max_leaves=None,\n",
       "                                    min_child_weight=None, missing=nan,\n",
       "                                    monotone_constraints=None,\n",
       "                                    multi_strategy=None, n_estimators=None,\n",
       "                                    n_jobs=None, num_parallel_tree=None,\n",
       "                                    random_state=42, ...),\n",
       "             param_grid={&#x27;colsample_bytree&#x27;: [0.8, 0.9, 1.0],\n",
       "                         &#x27;learning_rate&#x27;: [0.01, 0.1, 0.2],\n",
       "                         &#x27;max_depth&#x27;: [3, 4, 5],\n",
       "                         &#x27;n_estimators&#x27;: [100, 200, 300],\n",
       "                         &#x27;subsample&#x27;: [0.8, 0.9, 1.0]},\n",
       "             scoring=&#x27;neg_mean_squared_error&#x27;)</pre></div></div></div><div class=\"sk-parallel\"><div class=\"sk-parallel-item\"><div class=\"sk-item\"><div class=\"sk-label-container\"><div class=\"sk-label sk-toggleable\"><input class=\"sk-toggleable__control sk-hidden--visually\" id=\"sk-estimator-id-2\" type=\"checkbox\" ><label for=\"sk-estimator-id-2\" class=\"sk-toggleable__label sk-toggleable__label-arrow\">estimator: XGBRegressor</label><div class=\"sk-toggleable__content\"><pre>XGBRegressor(base_score=None, booster=None, callbacks=None,\n",
       "             colsample_bylevel=None, colsample_bynode=None,\n",
       "             colsample_bytree=None, device=None, early_stopping_rounds=None,\n",
       "             enable_categorical=False, eval_metric=None, feature_types=None,\n",
       "             gamma=None, grow_policy=None, importance_type=None,\n",
       "             interaction_constraints=None, learning_rate=None, max_bin=None,\n",
       "             max_cat_threshold=None, max_cat_to_onehot=None,\n",
       "             max_delta_step=None, max_depth=None, max_leaves=None,\n",
       "             min_child_weight=None, missing=nan, monotone_constraints=None,\n",
       "             multi_strategy=None, n_estimators=None, n_jobs=None,\n",
       "             num_parallel_tree=None, random_state=42, ...)</pre></div></div></div><div class=\"sk-serial\"><div class=\"sk-item\"><div class=\"sk-estimator sk-toggleable\"><input class=\"sk-toggleable__control sk-hidden--visually\" id=\"sk-estimator-id-3\" type=\"checkbox\" ><label for=\"sk-estimator-id-3\" class=\"sk-toggleable__label sk-toggleable__label-arrow\">XGBRegressor</label><div class=\"sk-toggleable__content\"><pre>XGBRegressor(base_score=None, booster=None, callbacks=None,\n",
       "             colsample_bylevel=None, colsample_bynode=None,\n",
       "             colsample_bytree=None, device=None, early_stopping_rounds=None,\n",
       "             enable_categorical=False, eval_metric=None, feature_types=None,\n",
       "             gamma=None, grow_policy=None, importance_type=None,\n",
       "             interaction_constraints=None, learning_rate=None, max_bin=None,\n",
       "             max_cat_threshold=None, max_cat_to_onehot=None,\n",
       "             max_delta_step=None, max_depth=None, max_leaves=None,\n",
       "             min_child_weight=None, missing=nan, monotone_constraints=None,\n",
       "             multi_strategy=None, n_estimators=None, n_jobs=None,\n",
       "             num_parallel_tree=None, random_state=42, ...)</pre></div></div></div></div></div></div></div></div></div></div>"
      ],
      "text/plain": [
       "GridSearchCV(cv=5,\n",
       "             estimator=XGBRegressor(base_score=None, booster=None,\n",
       "                                    callbacks=None, colsample_bylevel=None,\n",
       "                                    colsample_bynode=None,\n",
       "                                    colsample_bytree=None, device=None,\n",
       "                                    early_stopping_rounds=None,\n",
       "                                    enable_categorical=False, eval_metric=None,\n",
       "                                    feature_types=None, gamma=None,\n",
       "                                    grow_policy=None, importance_type=None,\n",
       "                                    interaction_constraints=None,\n",
       "                                    learning_rate=None, m...\n",
       "                                    max_depth=None, max_leaves=None,\n",
       "                                    min_child_weight=None, missing=nan,\n",
       "                                    monotone_constraints=None,\n",
       "                                    multi_strategy=None, n_estimators=None,\n",
       "                                    n_jobs=None, num_parallel_tree=None,\n",
       "                                    random_state=42, ...),\n",
       "             param_grid={'colsample_bytree': [0.8, 0.9, 1.0],\n",
       "                         'learning_rate': [0.01, 0.1, 0.2],\n",
       "                         'max_depth': [3, 4, 5],\n",
       "                         'n_estimators': [100, 200, 300],\n",
       "                         'subsample': [0.8, 0.9, 1.0]},\n",
       "             scoring='neg_mean_squared_error')"
      ]
     },
     "execution_count": 44,
     "metadata": {},
     "output_type": "execute_result"
    }
   ],
   "source": [
    "GridSearch = GridSearchCV(estimator=model, param_grid=param_grid, scoring='neg_mean_squared_error', cv=5)\n",
    "GridSearch.fit(X_train, y_train)"
   ]
  },
  {
   "cell_type": "code",
   "execution_count": 45,
   "id": "a7e3d6dd-5cf8-4d96-88bb-8c2e1bf2225a",
   "metadata": {},
   "outputs": [
    {
     "name": "stdout",
     "output_type": "stream",
     "text": [
      "190.32419088122674\n",
      "Best: {'colsample_bytree': 1.0, 'learning_rate': 0.1, 'max_depth': 5, 'n_estimators': 300, 'subsample': 0.8}\n"
     ]
    }
   ],
   "source": [
    "from math import sqrt\n",
    "print(sqrt(abs(GridSearch.best_score_)))\n",
    "print(\"Best:\", GridSearch.best_params_)"
   ]
  },
  {
   "cell_type": "code",
   "execution_count": 46,
   "id": "12d35794-2149-4892-80e3-171554fc8d9f",
   "metadata": {},
   "outputs": [
    {
     "data": {
      "text/html": [
       "<style>#sk-container-id-2 {color: black;}#sk-container-id-2 pre{padding: 0;}#sk-container-id-2 div.sk-toggleable {background-color: white;}#sk-container-id-2 label.sk-toggleable__label {cursor: pointer;display: block;width: 100%;margin-bottom: 0;padding: 0.3em;box-sizing: border-box;text-align: center;}#sk-container-id-2 label.sk-toggleable__label-arrow:before {content: \"▸\";float: left;margin-right: 0.25em;color: #696969;}#sk-container-id-2 label.sk-toggleable__label-arrow:hover:before {color: black;}#sk-container-id-2 div.sk-estimator:hover label.sk-toggleable__label-arrow:before {color: black;}#sk-container-id-2 div.sk-toggleable__content {max-height: 0;max-width: 0;overflow: hidden;text-align: left;background-color: #f0f8ff;}#sk-container-id-2 div.sk-toggleable__content pre {margin: 0.2em;color: black;border-radius: 0.25em;background-color: #f0f8ff;}#sk-container-id-2 input.sk-toggleable__control:checked~div.sk-toggleable__content {max-height: 200px;max-width: 100%;overflow: auto;}#sk-container-id-2 input.sk-toggleable__control:checked~label.sk-toggleable__label-arrow:before {content: \"▾\";}#sk-container-id-2 div.sk-estimator input.sk-toggleable__control:checked~label.sk-toggleable__label {background-color: #d4ebff;}#sk-container-id-2 div.sk-label input.sk-toggleable__control:checked~label.sk-toggleable__label {background-color: #d4ebff;}#sk-container-id-2 input.sk-hidden--visually {border: 0;clip: rect(1px 1px 1px 1px);clip: rect(1px, 1px, 1px, 1px);height: 1px;margin: -1px;overflow: hidden;padding: 0;position: absolute;width: 1px;}#sk-container-id-2 div.sk-estimator {font-family: monospace;background-color: #f0f8ff;border: 1px dotted black;border-radius: 0.25em;box-sizing: border-box;margin-bottom: 0.5em;}#sk-container-id-2 div.sk-estimator:hover {background-color: #d4ebff;}#sk-container-id-2 div.sk-parallel-item::after {content: \"\";width: 100%;border-bottom: 1px solid gray;flex-grow: 1;}#sk-container-id-2 div.sk-label:hover label.sk-toggleable__label {background-color: #d4ebff;}#sk-container-id-2 div.sk-serial::before {content: \"\";position: absolute;border-left: 1px solid gray;box-sizing: border-box;top: 0;bottom: 0;left: 50%;z-index: 0;}#sk-container-id-2 div.sk-serial {display: flex;flex-direction: column;align-items: center;background-color: white;padding-right: 0.2em;padding-left: 0.2em;position: relative;}#sk-container-id-2 div.sk-item {position: relative;z-index: 1;}#sk-container-id-2 div.sk-parallel {display: flex;align-items: stretch;justify-content: center;background-color: white;position: relative;}#sk-container-id-2 div.sk-item::before, #sk-container-id-2 div.sk-parallel-item::before {content: \"\";position: absolute;border-left: 1px solid gray;box-sizing: border-box;top: 0;bottom: 0;left: 50%;z-index: -1;}#sk-container-id-2 div.sk-parallel-item {display: flex;flex-direction: column;z-index: 1;position: relative;background-color: white;}#sk-container-id-2 div.sk-parallel-item:first-child::after {align-self: flex-end;width: 50%;}#sk-container-id-2 div.sk-parallel-item:last-child::after {align-self: flex-start;width: 50%;}#sk-container-id-2 div.sk-parallel-item:only-child::after {width: 0;}#sk-container-id-2 div.sk-dashed-wrapped {border: 1px dashed gray;margin: 0 0.4em 0.5em 0.4em;box-sizing: border-box;padding-bottom: 0.4em;background-color: white;}#sk-container-id-2 div.sk-label label {font-family: monospace;font-weight: bold;display: inline-block;line-height: 1.2em;}#sk-container-id-2 div.sk-label-container {text-align: center;}#sk-container-id-2 div.sk-container {/* jupyter's `normalize.less` sets `[hidden] { display: none; }` but bootstrap.min.css set `[hidden] { display: none !important; }` so we also need the `!important` here to be able to override the default hidden behavior on the sphinx rendered scikit-learn.org. See: https://github.com/scikit-learn/scikit-learn/issues/21755 */display: inline-block !important;position: relative;}#sk-container-id-2 div.sk-text-repr-fallback {display: none;}</style><div id=\"sk-container-id-2\" class=\"sk-top-container\"><div class=\"sk-text-repr-fallback\"><pre>XGBRegressor(base_score=None, booster=None, callbacks=None,\n",
       "             colsample_bylevel=None, colsample_bynode=None,\n",
       "             colsample_bytree=1.0, device=None, early_stopping_rounds=None,\n",
       "             enable_categorical=False, eval_metric=None, feature_types=None,\n",
       "             gamma=None, grow_policy=None, importance_type=None,\n",
       "             interaction_constraints=None, learning_rate=0.1, max_bin=None,\n",
       "             max_cat_threshold=None, max_cat_to_onehot=None,\n",
       "             max_delta_step=None, max_depth=5, max_leaves=None,\n",
       "             min_child_weight=None, missing=nan, monotone_constraints=None,\n",
       "             multi_strategy=None, n_estimators=300, n_jobs=None,\n",
       "             num_parallel_tree=None, random_state=42, ...)</pre><b>In a Jupyter environment, please rerun this cell to show the HTML representation or trust the notebook. <br />On GitHub, the HTML representation is unable to render, please try loading this page with nbviewer.org.</b></div><div class=\"sk-container\" hidden><div class=\"sk-item\"><div class=\"sk-estimator sk-toggleable\"><input class=\"sk-toggleable__control sk-hidden--visually\" id=\"sk-estimator-id-4\" type=\"checkbox\" checked><label for=\"sk-estimator-id-4\" class=\"sk-toggleable__label sk-toggleable__label-arrow\">XGBRegressor</label><div class=\"sk-toggleable__content\"><pre>XGBRegressor(base_score=None, booster=None, callbacks=None,\n",
       "             colsample_bylevel=None, colsample_bynode=None,\n",
       "             colsample_bytree=1.0, device=None, early_stopping_rounds=None,\n",
       "             enable_categorical=False, eval_metric=None, feature_types=None,\n",
       "             gamma=None, grow_policy=None, importance_type=None,\n",
       "             interaction_constraints=None, learning_rate=0.1, max_bin=None,\n",
       "             max_cat_threshold=None, max_cat_to_onehot=None,\n",
       "             max_delta_step=None, max_depth=5, max_leaves=None,\n",
       "             min_child_weight=None, missing=nan, monotone_constraints=None,\n",
       "             multi_strategy=None, n_estimators=300, n_jobs=None,\n",
       "             num_parallel_tree=None, random_state=42, ...)</pre></div></div></div></div></div>"
      ],
      "text/plain": [
       "XGBRegressor(base_score=None, booster=None, callbacks=None,\n",
       "             colsample_bylevel=None, colsample_bynode=None,\n",
       "             colsample_bytree=1.0, device=None, early_stopping_rounds=None,\n",
       "             enable_categorical=False, eval_metric=None, feature_types=None,\n",
       "             gamma=None, grow_policy=None, importance_type=None,\n",
       "             interaction_constraints=None, learning_rate=0.1, max_bin=None,\n",
       "             max_cat_threshold=None, max_cat_to_onehot=None,\n",
       "             max_delta_step=None, max_depth=5, max_leaves=None,\n",
       "             min_child_weight=None, missing=nan, monotone_constraints=None,\n",
       "             multi_strategy=None, n_estimators=300, n_jobs=None,\n",
       "             num_parallel_tree=None, random_state=42, ...)"
      ]
     },
     "execution_count": 46,
     "metadata": {},
     "output_type": "execute_result"
    }
   ],
   "source": [
    "best_model = GridSearch.best_estimator_\n",
    "best_model"
   ]
  },
  {
   "cell_type": "markdown",
   "id": "71e55c88-4979-4d7a-b567-eeb700fa61b3",
   "metadata": {},
   "source": [
    "#### ManualSearch 통해 수동으로 하이퍼파라미터 조정"
   ]
  },
  {
   "cell_type": "code",
   "execution_count": 47,
   "id": "8a4fe631-80ae-4db3-937e-6d6438920444",
   "metadata": {},
   "outputs": [
    {
     "name": "stdout",
     "output_type": "stream",
     "text": [
      "MAE: 101.373045\n",
      "MSE: 33113.140547\n",
      "RMSE: 181.970164\n"
     ]
    }
   ],
   "source": [
    "ms_model = XGBRegressor(random_state = 42, n_estimators = 200, max_depth = 9)\n",
    "\n",
    "ms_model.fit(X_train, y_train)\n",
    "\n",
    "pred = ms_model.predict(X_val)\n",
    "\n",
    "mae = mean_absolute_error(y_val, pred) \n",
    "mse = mean_squared_error(y_val, pred) \n",
    "rmse = np.sqrt(mean_squared_error(y_val, pred)) \n",
    "\n",
    "print(\"MAE: %f\" % (mae))\n",
    "print(\"MSE: %f\" % (mse))\n",
    "print(\"RMSE: %f\" % (rmse))"
   ]
  },
  {
   "cell_type": "code",
   "execution_count": 48,
   "id": "ba27adee-6c91-457b-b7c9-b84da33882e1",
   "metadata": {},
   "outputs": [
    {
     "name": "stdout",
     "output_type": "stream",
     "text": [
      "MAE: 101.336375\n",
      "MSE: 33110.350212\n",
      "RMSE: 181.962497\n"
     ]
    }
   ],
   "source": [
    "ms_model = XGBRegressor(random_state = 42, n_estimators = 400, max_depth = 9)\n",
    "\n",
    "ms_model.fit(X_train, y_train)\n",
    "\n",
    "pred = ms_model.predict(X_val)\n",
    "\n",
    "mae = mean_absolute_error(y_val, pred) \n",
    "mse = mean_squared_error(y_val, pred) \n",
    "rmse = np.sqrt(mean_squared_error(y_val, pred)) \n",
    "\n",
    "print(\"MAE: %f\" % (mae))\n",
    "print(\"MSE: %f\" % (mse))\n",
    "print(\"RMSE: %f\" % (rmse))"
   ]
  },
  {
   "cell_type": "code",
   "execution_count": 49,
   "id": "dd2ba06e-f63b-43d6-9e6f-bdfcba545132",
   "metadata": {},
   "outputs": [
    {
     "name": "stdout",
     "output_type": "stream",
     "text": [
      "MAE: 89.749190\n",
      "MSE: 28267.032577\n",
      "RMSE: 168.128024\n"
     ]
    }
   ],
   "source": [
    "ms_model = XGBRegressor(random_state = 42, n_estimators = 400, max_depth = 9, learning_rate = 0.1)\n",
    "\n",
    "ms_model.fit(X_train, y_train)\n",
    "\n",
    "pred = ms_model.predict(X_val)\n",
    "\n",
    "mae = mean_absolute_error(y_val, pred) \n",
    "mse = mean_squared_error(y_val, pred) \n",
    "rmse = np.sqrt(mean_squared_error(y_val, pred)) \n",
    "\n",
    "print(\"MAE: %f\" % (mae))\n",
    "print(\"MSE: %f\" % (mse))\n",
    "print(\"RMSE: %f\" % (rmse))"
   ]
  },
  {
   "cell_type": "code",
   "execution_count": 50,
   "id": "89e52cfd-0ef5-476b-93ab-d1ff4de56865",
   "metadata": {},
   "outputs": [
    {
     "name": "stdout",
     "output_type": "stream",
     "text": [
      "MAE: 104.595942\n",
      "MSE: 32739.095220\n",
      "RMSE: 180.939479\n"
     ]
    }
   ],
   "source": [
    "ms_model = XGBRegressor(random_state = 42, n_estimators = 200, max_depth = 6, learning_rate = 0.05, subsample = 0.8)\n",
    "\n",
    "ms_model.fit(X_train, y_train)\n",
    "\n",
    "pred = ms_model.predict(X_val)\n",
    "\n",
    "mae = mean_absolute_error(y_val, pred) \n",
    "mse = mean_squared_error(y_val, pred) \n",
    "rmse = np.sqrt(mean_squared_error(y_val, pred)) \n",
    "\n",
    "print(\"MAE: %f\" % (mae))\n",
    "print(\"MSE: %f\" % (mse))\n",
    "print(\"RMSE: %f\" % (rmse))"
   ]
  },
  {
   "cell_type": "code",
   "execution_count": 51,
   "id": "f822e13f-ad24-4a5e-9ca6-f3164f7fab36",
   "metadata": {},
   "outputs": [
    {
     "name": "stdout",
     "output_type": "stream",
     "text": [
      "MAE: 89.712698\n",
      "MSE: 26530.096683\n",
      "RMSE: 162.880621\n"
     ]
    }
   ],
   "source": [
    "ms_model = XGBRegressor(random_state=42, n_estimators= 300, max_depth=8, learning_rate=0.05, subsample=0.8)\n",
    "\n",
    "ms_model.fit(X_train, y_train)\n",
    "\n",
    "pred = ms_model.predict(X_val)\n",
    "\n",
    "mae = mean_absolute_error(y_val, pred) \n",
    "mse = mean_squared_error(y_val, pred) \n",
    "rmse = np.sqrt(mean_squared_error(y_val, pred)) \n",
    "\n",
    "print(\"MAE: %f\" % (mae))\n",
    "print(\"MSE: %f\" % (mse))\n",
    "print(\"RMSE: %f\" % (rmse))"
   ]
  },
  {
   "cell_type": "markdown",
   "id": "766958c2-6ce7-42c9-8ab0-c0de0cef0b36",
   "metadata": {},
   "source": [
    "#### 하이퍼파라미터 후 > 성능이 더 좋아짐."
   ]
  },
  {
   "cell_type": "markdown",
   "id": "f60aaaa7-e3ce-43f7-8cfe-bdbab029e338",
   "metadata": {},
   "source": [
    "#### 변수 중요도"
   ]
  },
  {
   "cell_type": "code",
   "execution_count": 52,
   "id": "631be61d-d4fc-4531-9bd3-0337014dda68",
   "metadata": {},
   "outputs": [
    {
     "data": {
      "image/png": "[encoded data removed]",
      "text/plain": [
       "<Figure size 800x600 with 1 Axes>"
      ]
     },
     "metadata": {
      "image/png": {
       "height": 527,
       "width": 852
      }
     },
     "output_type": "display_data"
    }
   ],
   "source": [
    "importances_values = pd.Series(ms_model.feature_importances_, index=X_val.columns).sort_values(ascending=False)\n",
    "plt.figure(figsize=(8,6))\n",
    "plt.title('Feature Importances')\n",
    "sns.barplot(x=importances_values, y=importances_values.index)\n",
    "plt.show()"
   ]
  },
  {
   "cell_type": "markdown",
   "id": "35608f77-42ba-4cc2-a371-72399a69c8e8",
   "metadata": {},
   "source": [
    "##### 강우량, 온도, 시간대 순으로 피처에 큰 중요도를 미침.\n",
    "##### 이를 고려하여 강우량, 온도, 시간대 등의 요소에 따라 따릉이를 관리하는 것이 필요할 것임."
   ]
  },
  {
   "cell_type": "markdown",
   "id": "ee5eae7a-f3fb-4296-8a18-992a93966282",
   "metadata": {},
   "source": [
    "#### 최종 test 모델 예측"
   ]
  },
  {
   "cell_type": "code",
   "execution_count": 53,
   "id": "fd34146a-b580-433a-bdb9-a2517c55e695",
   "metadata": {},
   "outputs": [],
   "source": [
    "#final_model = XGBRegressor(random_state=42, n_estimators= 300, max_depth=8, learning_rate=0.05, subsample=0.8)\n",
    "#final_model.fit(X_train, y_train)\n",
    "#df_test['Rented Bike Count'] = final_model.predict(X_test)"
   ]
  },
  {
   "cell_type": "markdown",
   "id": "14ff72b6-714b-4745-a11e-3888750f5c49",
   "metadata": {},
   "source": [
    "#### 오류 발생\n",
    "#### x_train에는 있지만 X_test에는 없는 변수 찾아서 처리하기"
   ]
  },
  {
   "cell_type": "code",
   "execution_count": 54,
   "id": "b998125a-03c8-4bda-8b89-88eb74edeb8f",
   "metadata": {},
   "outputs": [],
   "source": [
    "missing_columns = set(X_train.columns) - set(X_test.columns)\n",
    "for column in missing_columns:\n",
    "    X_test[column] = 0\n",
    "X_test = X_test[X_train.columns]"
   ]
  },
  {
   "cell_type": "code",
   "execution_count": 55,
   "id": "75876a43-fe50-4eac-9e02-ebff001b8b31",
   "metadata": {},
   "outputs": [],
   "source": [
    "final_model = XGBRegressor(random_state=42, n_estimators= 300, max_depth=8, learning_rate=0.05, subsample=0.8)\n",
    "final_model.fit(X_train, y_train)\n",
    "df_test['Rented Bike Count'] = final_model.predict(X_test)"
   ]
  },
  {
   "cell_type": "code",
   "execution_count": 56,
   "id": "e2fdcd19-17a7-47b3-bbb7-5c0b6494523c",
   "metadata": {},
   "outputs": [
    {
     "data": {
      "text/html": [
       "<div>\n",
       "<style scoped>\n",
       "    .dataframe tbody tr th:only-of-type {\n",
       "        vertical-align: middle;\n",
       "    }\n",
       "\n",
       "    .dataframe tbody tr th {\n",
       "        vertical-align: top;\n",
       "    }\n",
       "\n",
       "    .dataframe thead th {\n",
       "        text-align: right;\n",
       "    }\n",
       "</style>\n",
       "<table border=\"1\" class=\"dataframe\">\n",
       "  <thead>\n",
       "    <tr style=\"text-align: right;\">\n",
       "      <th></th>\n",
       "      <th>Hour</th>\n",
       "      <th>Temperature(째C)</th>\n",
       "      <th>Humidity(%)</th>\n",
       "      <th>Wind speed (m/s)</th>\n",
       "      <th>Visibility (10m)</th>\n",
       "      <th>Dew point temperature(째C)</th>\n",
       "      <th>Solar Radiation (MJ/m2)</th>\n",
       "      <th>Rainfall(mm)</th>\n",
       "      <th>Snowfall (cm)</th>\n",
       "      <th>year</th>\n",
       "      <th>month</th>\n",
       "      <th>day</th>\n",
       "      <th>Seasons_Autumn</th>\n",
       "      <th>Holiday_No Holiday</th>\n",
       "      <th>weekday2</th>\n",
       "      <th>Rented Bike Count</th>\n",
       "    </tr>\n",
       "  </thead>\n",
       "  <tbody>\n",
       "    <tr>\n",
       "      <th>0</th>\n",
       "      <td>0</td>\n",
       "      <td>5.7</td>\n",
       "      <td>62</td>\n",
       "      <td>2.30</td>\n",
       "      <td>1909</td>\n",
       "      <td>-1.0</td>\n",
       "      <td>0.0</td>\n",
       "      <td>0.0</td>\n",
       "      <td>0.0</td>\n",
       "      <td>2018</td>\n",
       "      <td>11</td>\n",
       "      <td>1</td>\n",
       "      <td>1.0</td>\n",
       "      <td>1.0</td>\n",
       "      <td>3</td>\n",
       "      <td>508.190887</td>\n",
       "    </tr>\n",
       "    <tr>\n",
       "      <th>1</th>\n",
       "      <td>1</td>\n",
       "      <td>5.1</td>\n",
       "      <td>65</td>\n",
       "      <td>1.60</td>\n",
       "      <td>1932</td>\n",
       "      <td>-0.9</td>\n",
       "      <td>0.0</td>\n",
       "      <td>0.0</td>\n",
       "      <td>0.0</td>\n",
       "      <td>2018</td>\n",
       "      <td>11</td>\n",
       "      <td>1</td>\n",
       "      <td>1.0</td>\n",
       "      <td>1.0</td>\n",
       "      <td>3</td>\n",
       "      <td>370.115875</td>\n",
       "    </tr>\n",
       "    <tr>\n",
       "      <th>2</th>\n",
       "      <td>2</td>\n",
       "      <td>4.4</td>\n",
       "      <td>64</td>\n",
       "      <td>1.15</td>\n",
       "      <td>2000</td>\n",
       "      <td>-1.8</td>\n",
       "      <td>0.0</td>\n",
       "      <td>0.0</td>\n",
       "      <td>0.0</td>\n",
       "      <td>2018</td>\n",
       "      <td>11</td>\n",
       "      <td>1</td>\n",
       "      <td>1.0</td>\n",
       "      <td>1.0</td>\n",
       "      <td>3</td>\n",
       "      <td>292.078369</td>\n",
       "    </tr>\n",
       "    <tr>\n",
       "      <th>3</th>\n",
       "      <td>3</td>\n",
       "      <td>4.2</td>\n",
       "      <td>65</td>\n",
       "      <td>0.70</td>\n",
       "      <td>1962</td>\n",
       "      <td>-1.8</td>\n",
       "      <td>0.0</td>\n",
       "      <td>0.0</td>\n",
       "      <td>0.0</td>\n",
       "      <td>2018</td>\n",
       "      <td>11</td>\n",
       "      <td>1</td>\n",
       "      <td>1.0</td>\n",
       "      <td>1.0</td>\n",
       "      <td>3</td>\n",
       "      <td>199.480453</td>\n",
       "    </tr>\n",
       "    <tr>\n",
       "      <th>4</th>\n",
       "      <td>4</td>\n",
       "      <td>3.6</td>\n",
       "      <td>70</td>\n",
       "      <td>0.80</td>\n",
       "      <td>1934</td>\n",
       "      <td>-1.3</td>\n",
       "      <td>0.0</td>\n",
       "      <td>0.0</td>\n",
       "      <td>0.0</td>\n",
       "      <td>2018</td>\n",
       "      <td>11</td>\n",
       "      <td>1</td>\n",
       "      <td>1.0</td>\n",
       "      <td>1.0</td>\n",
       "      <td>3</td>\n",
       "      <td>157.608917</td>\n",
       "    </tr>\n",
       "    <tr>\n",
       "      <th>...</th>\n",
       "      <td>...</td>\n",
       "      <td>...</td>\n",
       "      <td>...</td>\n",
       "      <td>...</td>\n",
       "      <td>...</td>\n",
       "      <td>...</td>\n",
       "      <td>...</td>\n",
       "      <td>...</td>\n",
       "      <td>...</td>\n",
       "      <td>...</td>\n",
       "      <td>...</td>\n",
       "      <td>...</td>\n",
       "      <td>...</td>\n",
       "      <td>...</td>\n",
       "      <td>...</td>\n",
       "      <td>...</td>\n",
       "    </tr>\n",
       "    <tr>\n",
       "      <th>715</th>\n",
       "      <td>19</td>\n",
       "      <td>4.2</td>\n",
       "      <td>34</td>\n",
       "      <td>2.60</td>\n",
       "      <td>1894</td>\n",
       "      <td>-10.3</td>\n",
       "      <td>0.0</td>\n",
       "      <td>0.0</td>\n",
       "      <td>0.0</td>\n",
       "      <td>2018</td>\n",
       "      <td>11</td>\n",
       "      <td>30</td>\n",
       "      <td>1.0</td>\n",
       "      <td>1.0</td>\n",
       "      <td>4</td>\n",
       "      <td>806.735229</td>\n",
       "    </tr>\n",
       "    <tr>\n",
       "      <th>716</th>\n",
       "      <td>20</td>\n",
       "      <td>3.4</td>\n",
       "      <td>37</td>\n",
       "      <td>2.30</td>\n",
       "      <td>2000</td>\n",
       "      <td>-9.9</td>\n",
       "      <td>0.0</td>\n",
       "      <td>0.0</td>\n",
       "      <td>0.0</td>\n",
       "      <td>2018</td>\n",
       "      <td>11</td>\n",
       "      <td>30</td>\n",
       "      <td>1.0</td>\n",
       "      <td>1.0</td>\n",
       "      <td>4</td>\n",
       "      <td>780.908813</td>\n",
       "    </tr>\n",
       "    <tr>\n",
       "      <th>717</th>\n",
       "      <td>21</td>\n",
       "      <td>2.6</td>\n",
       "      <td>39</td>\n",
       "      <td>0.30</td>\n",
       "      <td>1968</td>\n",
       "      <td>-9.9</td>\n",
       "      <td>0.0</td>\n",
       "      <td>0.0</td>\n",
       "      <td>0.0</td>\n",
       "      <td>2018</td>\n",
       "      <td>11</td>\n",
       "      <td>30</td>\n",
       "      <td>1.0</td>\n",
       "      <td>1.0</td>\n",
       "      <td>4</td>\n",
       "      <td>739.753723</td>\n",
       "    </tr>\n",
       "    <tr>\n",
       "      <th>718</th>\n",
       "      <td>22</td>\n",
       "      <td>2.1</td>\n",
       "      <td>41</td>\n",
       "      <td>1.00</td>\n",
       "      <td>1859</td>\n",
       "      <td>-9.8</td>\n",
       "      <td>0.0</td>\n",
       "      <td>0.0</td>\n",
       "      <td>0.0</td>\n",
       "      <td>2018</td>\n",
       "      <td>11</td>\n",
       "      <td>30</td>\n",
       "      <td>1.0</td>\n",
       "      <td>1.0</td>\n",
       "      <td>4</td>\n",
       "      <td>695.976440</td>\n",
       "    </tr>\n",
       "    <tr>\n",
       "      <th>719</th>\n",
       "      <td>23</td>\n",
       "      <td>1.9</td>\n",
       "      <td>43</td>\n",
       "      <td>1.30</td>\n",
       "      <td>1909</td>\n",
       "      <td>-9.3</td>\n",
       "      <td>0.0</td>\n",
       "      <td>0.0</td>\n",
       "      <td>0.0</td>\n",
       "      <td>2018</td>\n",
       "      <td>11</td>\n",
       "      <td>30</td>\n",
       "      <td>1.0</td>\n",
       "      <td>1.0</td>\n",
       "      <td>4</td>\n",
       "      <td>577.182373</td>\n",
       "    </tr>\n",
       "  </tbody>\n",
       "</table>\n",
       "<p>720 rows × 16 columns</p>\n",
       "</div>"
      ],
      "text/plain": [
       "     Hour  Temperature(째C)  Humidity(%)  Wind speed (m/s)  Visibility (10m)  \\\n",
       "0       0              5.7           62              2.30              1909   \n",
       "1       1              5.1           65              1.60              1932   \n",
       "2       2              4.4           64              1.15              2000   \n",
       "3       3              4.2           65              0.70              1962   \n",
       "4       4              3.6           70              0.80              1934   \n",
       "..    ...              ...          ...               ...               ...   \n",
       "715    19              4.2           34              2.60              1894   \n",
       "716    20              3.4           37              2.30              2000   \n",
       "717    21              2.6           39              0.30              1968   \n",
       "718    22              2.1           41              1.00              1859   \n",
       "719    23              1.9           43              1.30              1909   \n",
       "\n",
       "     Dew point temperature(째C)  Solar Radiation (MJ/m2)  Rainfall(mm)  \\\n",
       "0                         -1.0                      0.0           0.0   \n",
       "1                         -0.9                      0.0           0.0   \n",
       "2                         -1.8                      0.0           0.0   \n",
       "3                         -1.8                      0.0           0.0   \n",
       "4                         -1.3                      0.0           0.0   \n",
       "..                         ...                      ...           ...   \n",
       "715                      -10.3                      0.0           0.0   \n",
       "716                       -9.9                      0.0           0.0   \n",
       "717                       -9.9                      0.0           0.0   \n",
       "718                       -9.8                      0.0           0.0   \n",
       "719                       -9.3                      0.0           0.0   \n",
       "\n",
       "     Snowfall (cm)  year  month  day  Seasons_Autumn  Holiday_No Holiday  \\\n",
       "0              0.0  2018     11    1             1.0                 1.0   \n",
       "1              0.0  2018     11    1             1.0                 1.0   \n",
       "2              0.0  2018     11    1             1.0                 1.0   \n",
       "3              0.0  2018     11    1             1.0                 1.0   \n",
       "4              0.0  2018     11    1             1.0                 1.0   \n",
       "..             ...   ...    ...  ...             ...                 ...   \n",
       "715            0.0  2018     11   30             1.0                 1.0   \n",
       "716            0.0  2018     11   30             1.0                 1.0   \n",
       "717            0.0  2018     11   30             1.0                 1.0   \n",
       "718            0.0  2018     11   30             1.0                 1.0   \n",
       "719            0.0  2018     11   30             1.0                 1.0   \n",
       "\n",
       "     weekday2  Rented Bike Count  \n",
       "0           3         508.190887  \n",
       "1           3         370.115875  \n",
       "2           3         292.078369  \n",
       "3           3         199.480453  \n",
       "4           3         157.608917  \n",
       "..        ...                ...  \n",
       "715         4         806.735229  \n",
       "716         4         780.908813  \n",
       "717         4         739.753723  \n",
       "718         4         695.976440  \n",
       "719         4         577.182373  \n",
       "\n",
       "[720 rows x 16 columns]"
      ]
     },
     "execution_count": 56,
     "metadata": {},
     "output_type": "execute_result"
    }
   ],
   "source": [
    "df_test"
   ]
  },
  {
   "cell_type": "code",
   "execution_count": 57,
   "id": "06dfb8bd-8f36-4ade-8fb1-e17d4de4c1a9",
   "metadata": {},
   "outputs": [],
   "source": [
    "df_test.to_csv('test_fin.csv', index=False)"
   ]
  }
 ],
 "metadata": {
  "kernelspec": {
   "display_name": "Python 3 (ipykernel)",
   "language": "python",
   "name": "python3"
  },
  "language_info": {
   "codemirror_mode": {
    "name": "ipython",
    "version": 3
   },
   "file_extension": ".py",
   "mimetype": "text/x-python",
   "name": "python",
   "nbconvert_exporter": "python",
   "pygments_lexer": "ipython3",
   "version": "3.11.5"
  }
 },
 "nbformat": 4,
 "nbformat_minor": 5
}
